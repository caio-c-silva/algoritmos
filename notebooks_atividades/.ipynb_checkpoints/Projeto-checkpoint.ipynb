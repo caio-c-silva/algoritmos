{
 "cells": [
  {
   "cell_type": "markdown",
   "id": "50a77ff6-7200-4a7b-8003-a8aa9d064e20",
   "metadata": {},
   "source": [
    "## Lista de Exercícios"
   ]
  },
  {
   "cell_type": "markdown",
   "id": "a1f74ba3-e69d-4c47-a8be-aa4af1730833",
   "metadata": {},
   "source": [
    "### Instruções\n",
    "\n",
    "1. Salve uma cópia do notebook\n",
    "2. Renomeie o notebook no seguinte formato: lista_1_NOME1_NOME2_NOME3.ipynb\n",
    "3. Preencha a célula abaixo com suas informações\n",
    "4. Responda as questões\n",
    "5. Salve o arquivo .ipynb na sua máquina\n",
    "6. Envie o arquivo na tarefa aberta no canvas"
   ]
  },
  {
   "cell_type": "markdown",
   "id": "01b5bbc7-49a5-47e9-88f7-1b0e9106a806",
   "metadata": {},
   "source": [
    "**Nome:**\n",
    "\n",
    "**RA:**\n",
    "\n",
    "**Nome:**\n",
    "\n",
    "**RA:**\n",
    "\n",
    "**Nome:**\n",
    "\n",
    "**RA:**"
   ]
  },
  {
   "cell_type": "markdown",
   "id": "0298fdaa-a935-445b-aed5-ce104b077380",
   "metadata": {},
   "source": [
    "## Spotify 2023\n",
    "\n",
    "O conjunto de dados que será analisado pode ser encontrado no seguinte link:\n",
    "\n",
    "https://raw.githubusercontent.com/caio-c-silva/algoritmos/main/notebooks_atividades/spotify-2023_modificado.csv\n",
    "\n",
    "Os dados apresentam as músicas mais reproduzidas em 2023 segundo o Spotify. Abaixo segue uma descrição de cada coluna.\n",
    "\n",
    "| Coluna  | Comentário    |\n",
    "|------|------|\n",
    "|   `titulo`  | Título da Música|\n",
    "|`artista` | Artista que gravou a música. Algumas músicas foram gravadas por mais de um artista (feat.)|\n",
    "|`ano` | Ano de lançamento da música|\n",
    "|`mes` | Mês de lançamento da música|\n",
    "|`dia` | Dia do mês em que a música foi lançada|\n",
    "|`bpm` | Número de beats por minuto|\n",
    "|`tom` | A tonalidade em que a música foi gravada|\n",
    "|`modo` | O modo (maior ou menor) em que a música foi gravada|\n",
    "|`reproducoes_milhoes` | Número de reproduções de cada música apresentado em milhões de reproduções|\n",
    "\n",
    "\n",
    "\n",
    "\n"
   ]
  },
  {
   "cell_type": "markdown",
   "id": "2a605c30-cc7d-4e44-893d-53e785f33ec8",
   "metadata": {},
   "source": [
    "Utilizando a biblioteca `pandas`, responda as seguintes perguntas:"
   ]
  },
  {
   "cell_type": "markdown",
   "id": "39523304-2868-45d8-829c-6951a05fdc9c",
   "metadata": {},
   "source": [
    "1. Qual a música mais antiga presente no conjunto de dados?"
   ]
  },
  {
   "cell_type": "code",
   "execution_count": null,
   "id": "ac99e4e8-73b9-4b4c-8bb0-104035a2683f",
   "metadata": {},
   "outputs": [],
   "source": []
  },
  {
   "cell_type": "markdown",
   "id": "9f391a1c-e086-4cd0-ab16-cd6529f805c1",
   "metadata": {},
   "source": [
    "2. Qual a última musica a ser lançada que está presente no conjunto de dados?"
   ]
  },
  {
   "cell_type": "code",
   "execution_count": null,
   "id": "e2bd8b30-e4e4-49bc-bb70-8c90133e50d4",
   "metadata": {},
   "outputs": [],
   "source": []
  },
  {
   "cell_type": "markdown",
   "id": "59f5c86c-6880-4bf1-b5d1-e365c9425f9e",
   "metadata": {},
   "source": [
    "3. Crie um novo dataframe contendo as 10 músicas mais reproduzidas que foram gravadas pela cantora Taylor Swift."
   ]
  },
  {
   "cell_type": "code",
   "execution_count": null,
   "id": "9ae1c467-f337-436f-b077-5fec5d323ddc",
   "metadata": {},
   "outputs": [],
   "source": []
  },
  {
   "cell_type": "markdown",
   "id": "dcc60b81-84c8-4e0b-a5e6-dc00be4b0ad6",
   "metadata": {},
   "source": [
    "4. Faça um gráfico de barras mostrando os dados que foram selecionados no item 3."
   ]
  },
  {
   "cell_type": "code",
   "execution_count": null,
   "id": "65535c14-9f35-4dd8-a1ad-7b1be119db99",
   "metadata": {},
   "outputs": [],
   "source": []
  },
  {
   "cell_type": "markdown",
   "id": "1e6f120c-7c0e-4a75-a4db-81da74c08509",
   "metadata": {},
   "source": [
    "5. Agrupe o total de músicas lançadas em cada ano, apenas para músicas lançadas depois de 2010."
   ]
  },
  {
   "cell_type": "code",
   "execution_count": null,
   "id": "98bae7e4-2dfe-44a1-92c2-6eddd7af3671",
   "metadata": {},
   "outputs": [],
   "source": []
  },
  {
   "cell_type": "markdown",
   "id": "e77f8df1-a9c6-43f1-9d53-39fe3be35746",
   "metadata": {},
   "source": [
    "6. Faça um gráfico de barras horizontais mostrando os dados que foram selecionados no item 5."
   ]
  },
  {
   "cell_type": "code",
   "execution_count": null,
   "id": "8bc6c8bf-774b-4558-bd98-22e94e32d0bc",
   "metadata": {},
   "outputs": [],
   "source": []
  },
  {
   "cell_type": "markdown",
   "id": "0f4a8233-3715-4b83-9bda-a84c3cf3dd62",
   "metadata": {},
   "source": [
    "7. Das 20 músicas mais reproduzidas em 2023, quantas foram lançadas durante o verão? (considere o verão no hemisfério norte)"
   ]
  },
  {
   "cell_type": "code",
   "execution_count": null,
   "id": "1ed39aac-a3a1-4d4f-982c-c68fa7e8ce78",
   "metadata": {},
   "outputs": [],
   "source": []
  },
  {
   "cell_type": "markdown",
   "id": "31544fc5-d1d3-4258-8f9b-a708743d83dc",
   "metadata": {},
   "source": [
    "8. Das 20 músicas mais reproduzidas em 2023, quantas possuem um andamento inferior a 100 bpm?"
   ]
  },
  {
   "cell_type": "code",
   "execution_count": null,
   "id": "a1df1fcf-c6e9-4dfd-9aa4-78cf93472d80",
   "metadata": {},
   "outputs": [],
   "source": []
  },
  {
   "cell_type": "markdown",
   "id": "35ae2379-d8de-468b-b8b2-edb88c7d6791",
   "metadata": {},
   "source": [
    "9. Das 20 músicas mais reproduzidas em 2023, quantas estão na tonalidade de Dó Sustenido (C#) Maior?"
   ]
  },
  {
   "cell_type": "code",
   "execution_count": null,
   "id": "af678df8-da40-4f0e-9445-a2215edaeb33",
   "metadata": {},
   "outputs": [],
   "source": []
  },
  {
   "cell_type": "markdown",
   "id": "1970d29b-a456-46bf-8f2c-4c660dd0f777",
   "metadata": {},
   "source": [
    "10. Das 20 músicas mais reproduzidas em 2023, qual é o modo majoritário?"
   ]
  },
  {
   "cell_type": "code",
   "execution_count": null,
   "id": "dd9495cd-120d-457b-9298-3dd534fecf04",
   "metadata": {},
   "outputs": [],
   "source": []
  }
 ],
 "metadata": {
  "kernelspec": {
   "display_name": "Python 3 (ipykernel)",
   "language": "python",
   "name": "python3"
  },
  "language_info": {
   "codemirror_mode": {
    "name": "ipython",
    "version": 3
   },
   "file_extension": ".py",
   "mimetype": "text/x-python",
   "name": "python",
   "nbconvert_exporter": "python",
   "pygments_lexer": "ipython3",
   "version": "3.11.3"
  }
 },
 "nbformat": 4,
 "nbformat_minor": 5
}
