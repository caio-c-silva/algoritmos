{
 "cells": [
  {
   "cell_type": "markdown",
   "id": "50a77ff6-7200-4a7b-8003-a8aa9d064e20",
   "metadata": {},
   "source": [
    "## Prova 3 - Pt. 2"
   ]
  },
  {
   "cell_type": "markdown",
   "id": "a1f74ba3-e69d-4c47-a8be-aa4af1730833",
   "metadata": {},
   "source": [
    "### Instruções\n",
    "\n",
    "1. Salve uma cópia do notebook\n",
    "2. Renomeie o notebook no seguinte formato: P3_NOME.ipynb\n",
    "3. Preencha a célula abaixo com suas informações\n",
    "4. Responda as questões\n",
    "5. Salve o arquivo .ipynb na sua máquina\n",
    "6. Envie o arquivo na tarefa aberta no canvas"
   ]
  },
  {
   "cell_type": "markdown",
   "id": "01b5bbc7-49a5-47e9-88f7-1b0e9106a806",
   "metadata": {},
   "source": [
    "**Nome:**\n",
    "\n",
    "**RA:**\n"
   ]
  },
  {
   "cell_type": "markdown",
   "id": "0298fdaa-a935-445b-aed5-ce104b077380",
   "metadata": {},
   "source": [
    "## Spotify 2023\n",
    "\n",
    "O conjunto de dados que será analisado pode ser encontrado no seguinte link:\n",
    "\n",
    "https://raw.githubusercontent.com/caio-c-silva/algoritmos/main/notebooks_atividades/spotify-2023_modificado.csv\n",
    "\n",
    "Os dados apresentam as músicas mais reproduzidas em 2023 segundo o Spotify. Abaixo segue uma descrição de cada coluna.\n",
    "\n",
    "| Coluna  | Comentário    |\n",
    "|------|------|\n",
    "|   `titulo`  | Título da Música|\n",
    "|`artista` | Artista que gravou a música. Algumas músicas foram gravadas por mais de um artista (feat.)|\n",
    "|`ano` | Ano de lançamento da música|\n",
    "|`mes` | Mês de lançamento da música|\n",
    "|`dia` | Dia do mês em que a música foi lançada|\n",
    "|`bpm` | Número de beats por minuto|\n",
    "|`tom` | A tonalidade em que a música foi gravada|\n",
    "|`modo` | O modo (maior ou menor) em que a música foi gravada|\n",
    "|`reproducoes_milhoes` | Número de reproduções de cada música apresentado em milhões de reproduções|\n",
    "\n",
    "\n",
    "\n",
    "\n"
   ]
  },
  {
   "cell_type": "markdown",
   "id": "2a605c30-cc7d-4e44-893d-53e785f33ec8",
   "metadata": {},
   "source": [
    "Utilizando a biblioteca `pandas`, responda as seguintes perguntas:"
   ]
  },
  {
   "cell_type": "markdown",
   "id": "59f5c86c-6880-4bf1-b5d1-e365c9425f9e",
   "metadata": {},
   "source": [
    "1. Crie um novo dataframe contendo as 5 músicas mais reproduzidas que foram gravadas pelo cantor Bruno Mars."
   ]
  },
  {
   "cell_type": "code",
   "execution_count": null,
   "id": "9ae1c467-f337-436f-b077-5fec5d323ddc",
   "metadata": {},
   "outputs": [],
   "source": []
  },
  {
   "cell_type": "markdown",
   "id": "dcc60b81-84c8-4e0b-a5e6-dc00be4b0ad6",
   "metadata": {},
   "source": [
    "2. Faça um gráfico de pizza mostrando os dados que foram selecionados no item 1."
   ]
  },
  {
   "cell_type": "code",
   "execution_count": null,
   "id": "65535c14-9f35-4dd8-a1ad-7b1be119db99",
   "metadata": {},
   "outputs": [],
   "source": []
  },
  {
   "cell_type": "markdown",
   "id": "1e6f120c-7c0e-4a75-a4db-81da74c08509",
   "metadata": {},
   "source": [
    "3. Considerando as 5 músicas mais reproduzidas que foram gravadas pelo cantor Bruno Mars, qual a média do andamento das músicas em bpm."
   ]
  },
  {
   "cell_type": "code",
   "execution_count": null,
   "id": "98bae7e4-2dfe-44a1-92c2-6eddd7af3671",
   "metadata": {},
   "outputs": [],
   "source": []
  },
  {
   "cell_type": "markdown",
   "id": "e77f8df1-a9c6-43f1-9d53-39fe3be35746",
   "metadata": {},
   "source": [
    "4. Considerando as 5 músicas mais reproduzidas que foram gravadas pelo cantor Bruno Mars, qual a soma total de reproduções."
   ]
  },
  {
   "cell_type": "code",
   "execution_count": null,
   "id": "8bc6c8bf-774b-4558-bd98-22e94e32d0bc",
   "metadata": {},
   "outputs": [],
   "source": []
  },
  {
   "cell_type": "markdown",
   "id": "0f4a8233-3715-4b83-9bda-a84c3cf3dd62",
   "metadata": {},
   "source": [
    "5. Considerando as 5 músicas mais reproduzidas que foram gravadas pelo cantor Bruno Mars, mostre a soma de reproduções agrupadas por ano."
   ]
  },
  {
   "cell_type": "code",
   "execution_count": null,
   "id": "9af221b1-cffc-4208-84a9-3ffb4b45d424",
   "metadata": {},
   "outputs": [],
   "source": []
  }
 ],
 "metadata": {
  "kernelspec": {
   "display_name": "Python 3 (ipykernel)",
   "language": "python",
   "name": "python3"
  },
  "language_info": {
   "codemirror_mode": {
    "name": "ipython",
    "version": 3
   },
   "file_extension": ".py",
   "mimetype": "text/x-python",
   "name": "python",
   "nbconvert_exporter": "python",
   "pygments_lexer": "ipython3",
   "version": "3.11.3"
  }
 },
 "nbformat": 4,
 "nbformat_minor": 5
}
