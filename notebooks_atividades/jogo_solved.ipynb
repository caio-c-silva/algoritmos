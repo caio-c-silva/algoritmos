{
 "cells": [
  {
   "cell_type": "markdown",
   "id": "df2c4fb3-c97f-4d80-825d-05d532d834cf",
   "metadata": {},
   "source": [
    "Crie um programa que execute o seguinte jogo:\n",
    "- Pergunte ao usuário: \"Qual é a capital do Brasil?\".\n",
    "- Se o usuário escrever Brasília o programa deve retornar a seguinte mensagem: \"Parabéns, Você acertou!\"\n",
    "- Se o usuário escrever qualquer outra cidade o programa deve retornar a seguinte mensagem: \"Você errou, tente novamente\".\n",
    "- Sempre que o usuário escrever \"desisto\", o programa deve retornar a seguinte mensagem: \"A capital do Brasil é Brasília, obrigado pela participação!\".\n",
    "- Na terceira tentativa, o programa deve retornar a seguinte mensagem: \"Essa já é sua terceira tentativa, quer desistir?\".\n",
    "    - Se o usuário escrever \"sim\" ou \"quero\", o programa deve retornar a seguinte mensagem: \"A capital do Brasil é Brasília, obrigado pela participação!\".\n",
    "    - Para qualquer outra resposta o jogo deve continuar\n",
    "- Na décima tentativa, o programa deve retornar a seguinte mensagem: \"Ok, já percebi que você não sabe a resposta. A capital do Brasil é Brasília\" ."
   ]
  },
  {
   "cell_type": "code",
   "execution_count": null,
   "id": "69e4e9ee-7a53-47e7-a26e-14e496e5013a",
   "metadata": {
    "tags": []
   },
   "outputs": [],
   "source": [
    "resposta_certa = 'Brasília'\n",
    "\n",
    "tentativas = 0\n",
    "\n",
    "while tentativas < 10:\n",
    "    resposta = input(\"Qual é a capital do Brasil? \")\n",
    "    tentativas += 1\n",
    "    \n",
    "    if resposta.lower() == resposta_certa.lower():\n",
    "        print(\"Parabéns, Você acertou!\")\n",
    "        break\n",
    "    elif resposta.lower() == \"desisto\":\n",
    "        print(\"A capital do Brasil é Brasília, obrigado pela participação!\")\n",
    "        break\n",
    "    elif tentativas == 3:\n",
    "        continuar = input(\"Essa já é sua terceira tentativa, quer desistir? (sim/nao) \")\n",
    "        if continuar.lower() not in [\"sim\", \"quero\"]:\n",
    "            print(\"Continuando o jogo...\")\n",
    "        else:\n",
    "            print('A capital do Brasil é Brasília, obrigado pela participação!')\n",
    "            break\n",
    "    elif tentativas == 10:\n",
    "        print(\"Ok, já percebi que você não sabe a resposta. A capital do Brasil é Brasília.\")\n",
    "    else:\n",
    "        print(\"Você errou, tente novamente.\")"
   ]
  }
 ],
 "metadata": {
  "kernelspec": {
   "display_name": "Python 3 (ipykernel)",
   "language": "python",
   "name": "python3"
  },
  "language_info": {
   "codemirror_mode": {
    "name": "ipython",
    "version": 3
   },
   "file_extension": ".py",
   "mimetype": "text/x-python",
   "name": "python",
   "nbconvert_exporter": "python",
   "pygments_lexer": "ipython3",
   "version": "3.11.3"
  }
 },
 "nbformat": 4,
 "nbformat_minor": 5
}
