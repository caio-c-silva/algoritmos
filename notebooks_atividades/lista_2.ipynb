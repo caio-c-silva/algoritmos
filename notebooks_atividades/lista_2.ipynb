{
 "cells": [
  {
   "cell_type": "markdown",
   "id": "50a77ff6-7200-4a7b-8003-a8aa9d064e20",
   "metadata": {},
   "source": [
    "## Lista de Exercícios"
   ]
  },
  {
   "cell_type": "markdown",
   "id": "a1f74ba3-e69d-4c47-a8be-aa4af1730833",
   "metadata": {},
   "source": [
    "### Instruções\n",
    "\n",
    "1. Salve uma cópia do notebook\n",
    "2. Renomeie o notebook no seguinte formato: lista_1_NOME1_NOME2_NOME3.ipynb\n",
    "3. Preencha a célula abaixo com suas informações\n",
    "4. Resolva os exercícios\n",
    "5. Salve o arquivo .ipynb na sua máquina\n",
    "6. Envie o arquivo na tarefa aberta no canvas"
   ]
  },
  {
   "cell_type": "markdown",
   "id": "01b5bbc7-49a5-47e9-88f7-1b0e9106a806",
   "metadata": {},
   "source": [
    "**Nome:**\n",
    "\n",
    "**RA:**\n",
    "\n",
    "**Nome:**\n",
    "\n",
    "**RA:**\n",
    "\n",
    "**Nome:**\n",
    "\n",
    "**RA:**"
   ]
  },
  {
   "cell_type": "markdown",
   "id": "160ffd72-912d-4b91-acbb-020c9c81c947",
   "metadata": {
    "tags": []
   },
   "source": [
    "## Problema 1\n",
    "\n",
    "Crie uma função recursiva para resolver a sequência de Fibonacci..\n",
    "\n",
    "**Exemplo**\n",
    "\n",
    "Se a entrada for:\n",
    "\n",
    "\n",
    "```python\n",
    "4\n",
    "```\n",
    "\n",
    "A saída deve ser:\n",
    "\n",
    "> 3"
   ]
  },
  {
   "cell_type": "code",
   "execution_count": null,
   "id": "f6c057fb-c4be-43d0-9d23-a0dea7c8d2c8",
   "metadata": {},
   "outputs": [],
   "source": []
  },
  {
   "cell_type": "markdown",
   "id": "9741d8ad-817e-4aa2-aefc-41b6b8482ce3",
   "metadata": {},
   "source": [
    "## Problema 2\n",
    "\n",
    "Crie uma função recursiva para calcular a soma de uma lista de números.\n",
    "\n",
    "**Exemplo**\n",
    "\n",
    "Se a entrada for:\n",
    "\n",
    "\n",
    "```python\n",
    "[3, 1, 10, 4]\n",
    "```\n",
    "\n",
    "A saída deve ser:\n",
    "\n",
    "> 18"
   ]
  },
  {
   "cell_type": "code",
   "execution_count": null,
   "id": "bbdc9bc8-58ae-4996-8681-820b48cea217",
   "metadata": {},
   "outputs": [],
   "source": []
  },
  {
   "cell_type": "markdown",
   "id": "431963ed-6938-41b5-9d47-7486f13b3c6d",
   "metadata": {},
   "source": [
    "## Problema 3\n",
    "\n",
    "Crie uma função recursiva para calcular a soma dos dígitos de um número inteiro positivo.\n",
    "\n",
    "**Exemplo**\n",
    "\n",
    "Se a entrada for:\n",
    "\n",
    "\n",
    "```python\n",
    "25\n",
    "```\n",
    "\n",
    "A saída deve ser:\n",
    "\n",
    "> 7\n",
    "\n",
    "**Dica:** Utilize os operadores de divisão `% `e `//`"
   ]
  },
  {
   "cell_type": "code",
   "execution_count": null,
   "id": "cd9d04e6-7ba5-4577-a229-3254858f935e",
   "metadata": {},
   "outputs": [],
   "source": []
  },
  {
   "cell_type": "markdown",
   "id": "25986022-1126-4f74-8a40-ab39d9389cc6",
   "metadata": {
    "tags": []
   },
   "source": [
    "## Problema 4\n",
    "\n",
    "Crie uma função recursiva para verificar se uma string é um palindromo.\n",
    "\n",
    "**Exemplo**\n",
    "\n",
    "Se a entrada for:\n",
    "\n",
    "\n",
    "```python\n",
    "'reviver'\n",
    "```\n",
    "\n",
    "A saída deve ser:\n",
    "\n",
    "> True"
   ]
  },
  {
   "cell_type": "code",
   "execution_count": null,
   "id": "4c2e3c48-121e-47bd-9d55-6ee3b5015204",
   "metadata": {},
   "outputs": [],
   "source": []
  },
  {
   "cell_type": "markdown",
   "id": "34e8c082-0de0-4517-bc28-1b33105b0405",
   "metadata": {},
   "source": [
    "## Problema 5\n",
    "\n",
    "Crie uma função recursiva que busca um elemento dentro de uma lista ordenada e retorna o índice desse elemento. Caso o índice não seja encontrado a função deve retornar o valor -1. Essa função precisa estar baseada no algoritmo de busca binária.\n",
    "\n",
    "**Exemplo**\n",
    "\n",
    "Se a entrada for:\n",
    "\n",
    "\n",
    "```python\n",
    "lista = [1, 5, 7, 12, 35, 49]\n",
    "alvo = 12\n",
    "```\n",
    "\n",
    "A saída deve ser:\n",
    "\n",
    "> 3"
   ]
  }
 ],
 "metadata": {
  "kernelspec": {
   "display_name": "Python 3 (ipykernel)",
   "language": "python",
   "name": "python3"
  },
  "language_info": {
   "codemirror_mode": {
    "name": "ipython",
    "version": 3
   },
   "file_extension": ".py",
   "mimetype": "text/x-python",
   "name": "python",
   "nbconvert_exporter": "python",
   "pygments_lexer": "ipython3",
   "version": "3.11.0"
  }
 },
 "nbformat": 4,
 "nbformat_minor": 5
}
