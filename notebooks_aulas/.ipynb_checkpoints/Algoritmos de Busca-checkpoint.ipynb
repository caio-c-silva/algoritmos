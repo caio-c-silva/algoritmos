{
 "cells": [
  {
   "cell_type": "markdown",
   "id": "4bfc1ec2-4a9e-41da-a1dc-84425580842b",
   "metadata": {},
   "source": [
    "# Algoritmos de Busca\n",
    "\n",
    "[![Open In Colab](https://colab.research.google.com/assets/colab-badge.svg)](https://colab.research.google.com/github/caio-c-silva/algoritmos/blob/main/notebooks_aulas/Algoritmos%20de%20Busca.ipynb)"
   ]
  },
  {
   "cell_type": "markdown",
   "id": "0540c5f0-7a2e-432b-b40d-8b476bf86d39",
   "metadata": {},
   "source": [
    "## Busca Simples"
   ]
  },
  {
   "cell_type": "code",
   "execution_count": null,
   "id": "e1ec2bbe-4d9c-4dfe-8496-a581e85ba4ba",
   "metadata": {
    "tags": []
   },
   "outputs": [],
   "source": [
    "def busca_simples(lista, alvo):\n",
    "    for i, elemento in enumerate(lista):\n",
    "        if elemento == alvo:\n",
    "            return i\n",
    "        elif elemento > alvo:\n",
    "            break\n",
    "    return -1"
   ]
  },
  {
   "cell_type": "code",
   "execution_count": null,
   "id": "648367d3-487f-48a0-a982-9688f9932eda",
   "metadata": {
    "tags": []
   },
   "outputs": [],
   "source": [
    "numeros = [2, 4, 6, 8, 10, 12, 14, 16, 18, 20]\n",
    "alvo = 7\n",
    "\n",
    "indice = busca_simples(numeros, alvo)\n",
    "\n",
    "if indice != -1:\n",
    "    print(f\"O número {alvo} foi encontrado no índice {indice}.\")\n",
    "else:\n",
    "    print(f\"O número {alvo} não foi encontrado na lista.\")"
   ]
  },
  {
   "cell_type": "markdown",
   "id": "797c8fa0-1b54-409b-a78a-6a19821d699e",
   "metadata": {},
   "source": [
    "O algoritmo de busca simples não é o método mais eficiente para listas grandes, já que tem uma complexidade linear (O(n)) no pior caso. "
   ]
  },
  {
   "cell_type": "code",
   "execution_count": null,
   "id": "fdabfdf7-0a6b-4bd5-9f27-d8425bb0521c",
   "metadata": {
    "tags": []
   },
   "outputs": [],
   "source": [
    "numeros = list(range(1000000))\n",
    "alvo = 999000"
   ]
  },
  {
   "cell_type": "code",
   "execution_count": null,
   "id": "3168e50e-a61f-4725-9a8e-34693f898b58",
   "metadata": {
    "tags": []
   },
   "outputs": [],
   "source": [
    "%%time\n",
    "busca_simples(numeros, alvo)"
   ]
  },
  {
   "cell_type": "markdown",
   "id": "22421809-8bbf-4c12-ae5d-954bd5baffdb",
   "metadata": {},
   "source": [
    "## Busca Binária"
   ]
  },
  {
   "cell_type": "code",
   "execution_count": null,
   "id": "e82c4131-375e-4eac-a95b-1caf1b75cb5f",
   "metadata": {
    "tags": []
   },
   "outputs": [],
   "source": [
    "def busca_binaria(lista, numero):\n",
    "    inferior = 0 \n",
    "    superior = len(lista) - 1\n",
    "\n",
    "    while inferior <= superior:\n",
    "        chute = (inferior + superior) // 2\n",
    "        elemento_meio = lista[chute]\n",
    "\n",
    "        if elemento_meio == numero:\n",
    "            return chute\n",
    "        elif elemento_meio < numero:\n",
    "            inferior = chute + 1\n",
    "        else:\n",
    "            superior = chute - 1\n",
    "\n",
    "    return -1"
   ]
  },
  {
   "cell_type": "code",
   "execution_count": null,
   "id": "7b542d5b-0435-44a8-a57c-1188bd3c0190",
   "metadata": {
    "tags": []
   },
   "outputs": [],
   "source": [
    "%%time\n",
    "busca_simples(numeros, alvo)"
   ]
  },
  {
   "cell_type": "markdown",
   "id": "65442840-4ed5-4746-9ddd-ef7570e73d7f",
   "metadata": {},
   "source": [
    "## Aplicação: Raiz Cúbica"
   ]
  },
  {
   "cell_type": "markdown",
   "id": "da78411b-8c51-466b-b21b-4a4950182c50",
   "metadata": {},
   "source": [
    "### Busca Simples"
   ]
  },
  {
   "cell_type": "code",
   "execution_count": null,
   "id": "ad0b51a5-f582-4600-9bb0-e83be763cb23",
   "metadata": {
    "tags": []
   },
   "outputs": [],
   "source": [
    "def raiz_cubica_bs(cubo):\n",
    "    \n",
    "    tentativas = 1\n",
    "    for chute in range(abs(cubo)+1):\n",
    "\n",
    "       # testar todas as potenciais raízes \n",
    "        if chute**3 >= abs(cubo):\n",
    "            # Não precisa continuar a busca\n",
    "            break\n",
    "        tentativas += 1 \n",
    "    if chute**3 != abs(cubo):\n",
    "        print(f'{cubo} não é uma raiz perfeita')\n",
    "    else:\n",
    "        if cubo < 0:\n",
    "            chute = -chute\n",
    "        print(f'A raíz cúbica de {cubo} é {chute} e foram necessárias {tentativas} tentativas')"
   ]
  },
  {
   "cell_type": "code",
   "execution_count": null,
   "id": "bd4d6173-6f3a-4132-933e-7e6d0f40905e",
   "metadata": {
    "tags": []
   },
   "outputs": [],
   "source": [
    "# 8120601\n",
    "raiz_cubica_bs(8120601)"
   ]
  },
  {
   "cell_type": "markdown",
   "id": "ef9d53b9-1027-41c2-bb21-695783adc054",
   "metadata": {},
   "source": [
    "### Aproximação"
   ]
  },
  {
   "cell_type": "code",
   "execution_count": null,
   "id": "e9709cb7-f763-4745-a31c-e7703f998bad",
   "metadata": {
    "tags": []
   },
   "outputs": [],
   "source": [
    "def raiz_cubica_apx(cubo):\n",
    "   \n",
    "    e = 0.01\n",
    "    chute = 0.0\n",
    "    incremento = 0.01\n",
    "    tentativas = 0\n",
    "\n",
    "    while abs(chute**3 - cubo) >= e and chute <= cubo:\n",
    "        chute += incremento\n",
    "        tentativas += 1\n",
    "    print(f'tentativas = {tentativas}')\n",
    "    if abs(chute**3 - cubo) >= e:\n",
    "        print(f'Não é possível encontrar a raíz cúbica de {cubo} com esses parâmetros')\n",
    "    else:\n",
    "        print(f'{chute} é aproximadamente a raíz cúbica de {cubo}')\n",
    "    "
   ]
  },
  {
   "cell_type": "code",
   "execution_count": null,
   "id": "9b826b10-95cf-4b54-807d-27b615ef6c46",
   "metadata": {
    "tags": []
   },
   "outputs": [],
   "source": [
    "# 10000\n",
    "raiz_cubica_apx(8120601)"
   ]
  },
  {
   "cell_type": "code",
   "execution_count": null,
   "id": "baa06fd4-57df-4df5-aebe-e48b07d20af2",
   "metadata": {
    "tags": []
   },
   "outputs": [],
   "source": [
    "2.08**3"
   ]
  },
  {
   "cell_type": "markdown",
   "id": "a252a8f2-eebc-4624-80ac-cab6d2bd00c4",
   "metadata": {},
   "source": [
    "### Busca Binária"
   ]
  },
  {
   "cell_type": "code",
   "execution_count": null,
   "id": "c1776317-4fa8-4b5c-b59b-ec35f47a0866",
   "metadata": {
    "tags": []
   },
   "outputs": [],
   "source": [
    "def raiz_cubica_bb(cubo):\n",
    "    e = 0.01\n",
    "    tentativas = 0\n",
    "    inferior = 0\n",
    "    superior = cubo\n",
    "    chute = (superior + inferior)/2.0\n",
    "    while abs(chute**3 - cubo) >= e:\n",
    "        if chute**3 < cubo:\n",
    "           # olha apenas o espaço de busca superior\n",
    "           inferior = chute\n",
    "        else:\n",
    "           # olha apenas o espaço de busca inferior\n",
    "           superior = chute\n",
    "       # o próximo chute é a metade do espaço de busca\n",
    "        chute = (superior + inferior)/2.0\n",
    "        tentativas += 1\n",
    "    print(f'tentativas = {tentativas}')\n",
    "    print(f'{chute} é aproximadamente a raiz cúbica de {cubo}')"
   ]
  },
  {
   "cell_type": "code",
   "execution_count": null,
   "id": "50ea6b1a-a83b-4e2f-9f34-0fc8d7d3e26d",
   "metadata": {
    "tags": []
   },
   "outputs": [],
   "source": [
    "raiz_cubica_bb(8120601)"
   ]
  },
  {
   "cell_type": "code",
   "execution_count": null,
   "id": "57305b72-bc17-47a5-aa1a-8bfecbbbfadc",
   "metadata": {},
   "outputs": [],
   "source": []
  }
 ],
 "metadata": {
  "kernelspec": {
   "display_name": "Python 3 (ipykernel)",
   "language": "python",
   "name": "python3"
  },
  "language_info": {
   "codemirror_mode": {
    "name": "ipython",
    "version": 3
   },
   "file_extension": ".py",
   "mimetype": "text/x-python",
   "name": "python",
   "nbconvert_exporter": "python",
   "pygments_lexer": "ipython3",
   "version": "3.11.3"
  }
 },
 "nbformat": 4,
 "nbformat_minor": 5
}
