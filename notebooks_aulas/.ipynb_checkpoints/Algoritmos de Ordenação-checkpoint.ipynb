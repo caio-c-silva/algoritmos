{
 "cells": [
  {
   "cell_type": "markdown",
   "id": "d58f9816-ec89-40a1-9115-4e8eca4350f9",
   "metadata": {},
   "source": [
    "# Algoritmos de Ordenação\n",
    "\n",
    "[![Open In Colab](https://colab.research.google.com/assets/colab-badge.svg)](https://colab.research.google.com/github/caio-c-silva/algoritmos/blob/main/notebooks_aulas/Algoritmos%20de%20Busca.ipynb)\n"
   ]
  },
  {
   "cell_type": "code",
   "execution_count": 10,
   "id": "ef5b3b5f-c1a1-4bdb-a61c-07b25a16bdde",
   "metadata": {
    "tags": []
   },
   "outputs": [],
   "source": [
    "def encontrar_menor_elemento(lista):\n",
    "    menor_elemento = lista[0] \n",
    "    menor_idx = 0 \n",
    "    for i in range(1, len(lista)):\n",
    "        if lista[i] < menor_elemento:\n",
    "            menor_elemento = lista[i]\n",
    "            menor_idx = i\n",
    "    return menor_idx"
   ]
  },
  {
   "cell_type": "code",
   "execution_count": 11,
   "id": "78f0ce22-617b-4ac1-be3e-0ef394397806",
   "metadata": {
    "tags": []
   },
   "outputs": [],
   "source": [
    "def selecionar_menor(lista): \n",
    "    nova_lista = []\n",
    "    for i in range(len(lista)):\n",
    "        menor = encontrar_menor_elemento(lista)\n",
    "        nova_lista.append(lista.pop(menor))\n",
    "    return nova_lista"
   ]
  },
  {
   "cell_type": "code",
   "execution_count": 13,
   "id": "31f1d00f-3096-4ff1-95ab-58d2dafedad6",
   "metadata": {
    "tags": []
   },
   "outputs": [
    {
     "data": {
      "text/plain": [
       "[2, 3, 5, 6, 10]"
      ]
     },
     "execution_count": 13,
     "metadata": {},
     "output_type": "execute_result"
    }
   ],
   "source": [
    "selecionar_menor([5, 3, 6, 2, 10])"
   ]
  },
  {
   "cell_type": "code",
   "execution_count": null,
   "id": "25000883-86b2-4c71-827f-050822dc469f",
   "metadata": {},
   "outputs": [],
   "source": []
  }
 ],
 "metadata": {
  "kernelspec": {
   "display_name": "Python 3 (ipykernel)",
   "language": "python",
   "name": "python3"
  },
  "language_info": {
   "codemirror_mode": {
    "name": "ipython",
    "version": 3
   },
   "file_extension": ".py",
   "mimetype": "text/x-python",
   "name": "python",
   "nbconvert_exporter": "python",
   "pygments_lexer": "ipython3",
   "version": "3.11.3"
  }
 },
 "nbformat": 4,
 "nbformat_minor": 5
}
