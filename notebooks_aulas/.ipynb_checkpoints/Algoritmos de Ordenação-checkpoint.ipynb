{
 "cells": [
  {
   "cell_type": "markdown",
   "id": "d58f9816-ec89-40a1-9115-4e8eca4350f9",
   "metadata": {
    "tags": []
   },
   "source": [
    "# Algoritmos de Ordenação\n",
    "\n",
    "[![Open In Colab](https://colab.research.google.com/assets/colab-badge.svg)](https://colab.research.google.com/github/caio-c-silva/algoritmos/blob/main/notebooks_aulas/Algoritmos%20de%20Ordena%C3%A7%C3%A3o.ipynb)\n"
   ]
  },
  {
   "cell_type": "markdown",
   "id": "935b3c2b-2ef6-4ebb-a225-efc039a1c00f",
   "metadata": {},
   "source": [
    "## Selection Sort"
   ]
  },
  {
   "cell_type": "markdown",
   "id": "2d39bb50-df41-493d-b537-2e11e0b60cc8",
   "metadata": {},
   "source": [
    "O algoritmo Selection Sort é um algoritmo de ordenação simples que funciona selecionando repetidamente o menor elemento da lista não ordenada e movendo-o para uma nova lista ou para a posição correta da mesma lista. Aqui está uma breve descrição passo a passo do algoritmo:\n",
    "\n",
    "1. Encontre o menor elemento\n",
    "    - Inicialmente, considere toda a lista como não ordenado.\n",
    "    - Percorra a lista para encontrar o menor elemento. Você pode fazer isso comparando cada elemento com os outros e mantendo o índice do menor elemento encontrado até o momento.\n",
    "2. Troque o menor elemento\n",
    "    - Após encontrar o menor elemento, coloque o elemento na nova lista ou troque-o com o elemento na primeira posição da mesma lista (índice 0).\n",
    "3. Repita para o restante da lista\n",
    "    - Repita os passos 1 e 2 para o restante da lista não ordenada.\n",
    "4. Após concluir todos os passos, a lista estará ordenada do menor para o maior elemento."
   ]
  },
  {
   "cell_type": "markdown",
   "id": "1c7b16f8-3379-4cea-b459-1085129201a1",
   "metadata": {},
   "source": [
    "### Implementação"
   ]
  },
  {
   "cell_type": "markdown",
   "id": "e9a1e59e-32a9-4788-8acc-aab970b6e2c2",
   "metadata": {},
   "source": [
    "#### Nova Lista"
   ]
  },
  {
   "cell_type": "code",
   "execution_count": null,
   "id": "ef5b3b5f-c1a1-4bdb-a61c-07b25a16bdde",
   "metadata": {
    "tags": []
   },
   "outputs": [],
   "source": [
    "def encontrar_menor_elemento(lista):\n",
    "    menor_elemento = lista[0] \n",
    "    menor_idx = 0 \n",
    "    for i in range(1, len(lista)):\n",
    "        if lista[i] < menor_elemento:\n",
    "            menor_elemento = lista[i]\n",
    "            menor_idx = i\n",
    "    return menor_idx"
   ]
  },
  {
   "cell_type": "code",
   "execution_count": null,
   "id": "78f0ce22-617b-4ac1-be3e-0ef394397806",
   "metadata": {
    "tags": []
   },
   "outputs": [],
   "source": [
    "def selection_sort1(lista): \n",
    "    nova_lista = []\n",
    "    for i in range(len(lista)):\n",
    "        menor = encontrar_menor_elemento(lista)\n",
    "        nova_lista.append(lista.pop(menor))\n",
    "    return nova_lista"
   ]
  },
  {
   "cell_type": "code",
   "execution_count": null,
   "id": "70820808-0e07-4680-9978-2a0f363f7449",
   "metadata": {
    "tags": []
   },
   "outputs": [],
   "source": [
    "selection_sort1([6, 2, 8, 0, 11, 27])"
   ]
  },
  {
   "cell_type": "markdown",
   "id": "f3c166f5-ce9f-46b3-9674-c301f6346b6e",
   "metadata": {},
   "source": [
    "#### Mesma Lista (Mutabilidade)"
   ]
  },
  {
   "cell_type": "code",
   "execution_count": null,
   "id": "24548be0-abee-40df-851c-2d79ba0efaf1",
   "metadata": {},
   "outputs": [],
   "source": [
    "def selection_sort2(lista):\n",
    "    n = len(lista)\n",
    "\n",
    "    for i in range(n):\n",
    "        menor_idx = i\n",
    "\n",
    "        # Achar o índice da parte não ordenada da lista\n",
    "        for j in range(i+1, n):\n",
    "            if lista[j] < lista[menor_idx]:\n",
    "                menor_idx = j\n",
    "\n",
    "        # trocar os valores do menor elemento com o primeiro da lista\n",
    "        lista[i], lista[menor_idx] = lista[menor_idx], lista[i]\n",
    "    return lista"
   ]
  },
  {
   "cell_type": "code",
   "execution_count": null,
   "id": "450c0f77-249c-41af-af13-289f80ad4a48",
   "metadata": {
    "tags": []
   },
   "outputs": [],
   "source": [
    "selection_sort2([6, 2, 8, 0, 11, 27])"
   ]
  },
  {
   "cell_type": "markdown",
   "id": "6be5e761-76e5-469e-a4bf-3d685aea1627",
   "metadata": {},
   "source": [
    "## Bubble Sort"
   ]
  },
  {
   "cell_type": "markdown",
   "id": "879ab546-3889-4dac-9e9e-84fdd8fc2087",
   "metadata": {},
   "source": [
    "O algoritmo Bubble Sort é outro algoritmo de ordenação simples que funciona comparando e trocando repetidamente elementos adjacentes até que todo o array esteja ordenado. Aqui está uma breve descrição passo a passo do algoritmo:\n",
    "\n",
    "1. Comece a primeira passagem\n",
    "    - Considere todo a lista como não ordenada no início.\n",
    "2. Compare elementos adjacentes\n",
    "    - Percorra a lista da esquerda para a direita, comparando elementos adjacentes.\n",
    "    - Compare o elemento atual com o próximo elemento à direita.\n",
    "3. Faça a troca, se necessário\n",
    "    - Se o elemento atual for maior do que o próximo elemento, troque-os de lugar.\n",
    "    - Continue fazendo isso enquanto percorre a lista, movendo o maior elemento encontrado para a posição correta no final da lista.\n",
    "4. Avance para a próxima passagem\n",
    "    - Após completar a primeira passagem, o maior elemento já estará na última posição da lista.\n",
    "    - Agora, considere a lista, excluindo o último elemento (que já está na posição correta), como não ordenada.\n",
    "    - Repita os passos 2 e 3 para a sublista não ordenada.\n",
    "5. Continue até que esteja ordenado\n",
    "    - Continue repetindo as passagens (passos 2 a 4) até que nenhuma troca seja necessária durante uma passagem.\n",
    "6. Após concluir todos os passos, a lista estará ordenada do menor para o maior elemento."
   ]
  },
  {
   "cell_type": "markdown",
   "id": "78594b20-36c5-42c2-997e-41b207529319",
   "metadata": {},
   "source": [
    "### Implementação"
   ]
  },
  {
   "cell_type": "code",
   "execution_count": null,
   "id": "2b7d4447-219a-4eaf-92a3-50888dca3c8a",
   "metadata": {
    "tags": []
   },
   "outputs": [],
   "source": [
    "def bubble_sort(lista):\n",
    "    n = len(lista)\n",
    "    \n",
    "    # Percorre todo a lista\n",
    "    for i in range(n):\n",
    "        # Últimos \"i\" elementos já estão na posição correta,\n",
    "        # então não é necessário compará-los novamente\n",
    "        for j in range(0, n-i-1):\n",
    "            # Compara elementos adjacentes\n",
    "            if lista[j] > lista[j+1]:\n",
    "                # Troca os elementos se estiverem na ordem errada\n",
    "                lista[j], lista[j+1] = lista[j+1], lista[j]\n",
    "    return lista"
   ]
  },
  {
   "cell_type": "code",
   "execution_count": null,
   "id": "503372ea-a3b2-46ff-9291-897ca089d9ca",
   "metadata": {
    "tags": []
   },
   "outputs": [],
   "source": [
    "bubble_sort([6, 2, 8, 0, 11, 27])"
   ]
  },
  {
   "cell_type": "markdown",
   "id": "8e81293a-4865-4f81-bd48-7303b9b1936a",
   "metadata": {},
   "source": [
    "## Problemas"
   ]
  },
  {
   "cell_type": "markdown",
   "id": "a02803ac-eb8b-43b6-b0ee-710604c74696",
   "metadata": {},
   "source": [
    "1. Modifique o algoritmo Selection Sort para que a ordenação ocorra de forma decrescente."
   ]
  },
  {
   "cell_type": "code",
   "execution_count": null,
   "id": "1d38ef51-d3e1-41bb-a299-d43ceb5aed41",
   "metadata": {},
   "outputs": [],
   "source": []
  },
  {
   "cell_type": "markdown",
   "id": "14e189f6-fc96-446d-a5e6-e52553fb0587",
   "metadata": {},
   "source": [
    "2. Modifique o algoritmo Bubble Sort para que a ordenação ocorra de forma decrescente."
   ]
  },
  {
   "cell_type": "code",
   "execution_count": null,
   "id": "ce56a90f-55d4-4792-9159-4444f71e7784",
   "metadata": {},
   "outputs": [],
   "source": []
  },
  {
   "cell_type": "markdown",
   "id": "d2e4c659-8ed2-48a3-9ec9-f60ebd515e36",
   "metadata": {
    "tags": []
   },
   "source": [
    "3. Crie uma função onde a forma de ordenação possa ser escolhida."
   ]
  },
  {
   "cell_type": "code",
   "execution_count": null,
   "id": "fe882584-4d99-4c70-873b-a8a2143add9a",
   "metadata": {},
   "outputs": [],
   "source": []
  },
  {
   "cell_type": "code",
   "execution_count": null,
   "id": "71752242-ba66-4a5c-b07e-a6bf87b9ed6a",
   "metadata": {},
   "outputs": [],
   "source": []
  }
 ],
 "metadata": {
  "kernelspec": {
   "display_name": "Python 3 (ipykernel)",
   "language": "python",
   "name": "python3"
  },
  "language_info": {
   "codemirror_mode": {
    "name": "ipython",
    "version": 3
   },
   "file_extension": ".py",
   "mimetype": "text/x-python",
   "name": "python",
   "nbconvert_exporter": "python",
   "pygments_lexer": "ipython3",
   "version": "3.11.3"
  }
 },
 "nbformat": 4,
 "nbformat_minor": 5
}
