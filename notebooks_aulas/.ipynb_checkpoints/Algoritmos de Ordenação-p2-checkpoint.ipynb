{
 "cells": [
  {
   "cell_type": "markdown",
   "id": "d58f9816-ec89-40a1-9115-4e8eca4350f9",
   "metadata": {
    "tags": []
   },
   "source": [
    "# Algoritmos de Ordenação\n",
    "\n",
    "[![Open In Colab](https://colab.research.google.com/assets/colab-badge.svg)](https://colab.research.google.com/github/caio-c-silva/algoritmos/blob/main/notebooks_aulas/Algoritmos%20de%20Ordena%C3%A7%C3%A3o.ipynb)\n"
   ]
  },
  {
   "cell_type": "markdown",
   "id": "935b3c2b-2ef6-4ebb-a225-efc039a1c00f",
   "metadata": {},
   "source": [
    "## Insertion Sort"
   ]
  },
  {
   "cell_type": "markdown",
   "id": "2d39bb50-df41-493d-b537-2e11e0b60cc8",
   "metadata": {},
   "source": [
    "O algoritmo de ordenação por inserção (Insertion Sort) é um método simples de ordenação que funciona da seguinte maneira::\n",
    "\n",
    "1. Comece com uma lista não ordenada    \n",
    "2. Inicialmente, considere que o primeiro elemento da lista está ordenado\n",
    "3. Em seguida, vá para o próximo elemento da lista\n",
    "4. Compare o elemento atual com os elementos já ordenados à esquerda dele\n",
    "5. Insira o elemento atual na posição apropriada entre os elementos ordenados, movendo os elementos maiores à direita\n",
    "6. Repita os passos 3 a 5 para todos os elementos não ordenados, expandindo gradualmente a porção ordenada da lista\n",
    "7. Continue até que todos os elementos estejam ordenados"
   ]
  },
  {
   "cell_type": "markdown",
   "id": "1c7b16f8-3379-4cea-b459-1085129201a1",
   "metadata": {},
   "source": [
    "### Implementação"
   ]
  },
  {
   "cell_type": "code",
   "execution_count": null,
   "id": "24548be0-abee-40df-851c-2d79ba0efaf1",
   "metadata": {},
   "outputs": [],
   "source": [
    "def insertion_sort(lista):\n",
    "    n = len(lista)\n",
    "    \n",
    "    for i in range(1, n):\n",
    "        j = i\n",
    "        \n",
    "        while lista[j-1] > lista[j] and j > 0:\n",
    "            lista[j-1], lista[j] = lista[j], lista[j-1]\n",
    "            j -= 1\n",
    "            \n",
    "    return lista"
   ]
  },
  {
   "cell_type": "code",
   "execution_count": null,
   "id": "94be7c92-64ac-4559-a368-1785602efeaf",
   "metadata": {
    "tags": []
   },
   "outputs": [],
   "source": [
    "insertion_sort([5, 0, 17, 4, 3, 21])"
   ]
  },
  {
   "cell_type": "markdown",
   "id": "8e81293a-4865-4f81-bd48-7303b9b1936a",
   "metadata": {},
   "source": [
    "## Problemas"
   ]
  },
  {
   "cell_type": "markdown",
   "id": "a02803ac-eb8b-43b6-b0ee-710604c74696",
   "metadata": {},
   "source": [
    "1. Modifique o algoritmo Insertion Sort para que a ordenação ocorra de forma decrescente."
   ]
  },
  {
   "cell_type": "code",
   "execution_count": null,
   "id": "1d38ef51-d3e1-41bb-a299-d43ceb5aed41",
   "metadata": {},
   "outputs": [],
   "source": []
  },
  {
   "cell_type": "markdown",
   "id": "d2e4c659-8ed2-48a3-9ec9-f60ebd515e36",
   "metadata": {
    "tags": []
   },
   "source": [
    "2. Crie uma função onde a forma de ordenação possa ser escolhida."
   ]
  },
  {
   "cell_type": "code",
   "execution_count": null,
   "id": "fe882584-4d99-4c70-873b-a8a2143add9a",
   "metadata": {},
   "outputs": [],
   "source": []
  },
  {
   "cell_type": "markdown",
   "id": "49942b4b-7f37-4ed0-ab13-12ab640c03a0",
   "metadata": {},
   "source": [
    "3. Crie uma função para encontrar a posição de um elemento dentro de uma lista não odernada. Combine um algoritmo de ordenação e o algoritmo de busca binária."
   ]
  },
  {
   "cell_type": "code",
   "execution_count": null,
   "id": "76cc9256-df8f-48d4-82b0-64ed739d609e",
   "metadata": {},
   "outputs": [],
   "source": []
  }
 ],
 "metadata": {
  "kernelspec": {
   "display_name": "Python 3 (ipykernel)",
   "language": "python",
   "name": "python3"
  },
  "language_info": {
   "codemirror_mode": {
    "name": "ipython",
    "version": 3
   },
   "file_extension": ".py",
   "mimetype": "text/x-python",
   "name": "python",
   "nbconvert_exporter": "python",
   "pygments_lexer": "ipython3",
   "version": "3.11.3"
  }
 },
 "nbformat": 4,
 "nbformat_minor": 5
}
