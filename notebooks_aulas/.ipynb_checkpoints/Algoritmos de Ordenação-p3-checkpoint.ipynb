{
 "cells": [
  {
   "cell_type": "markdown",
   "id": "d58f9816-ec89-40a1-9115-4e8eca4350f9",
   "metadata": {
    "tags": []
   },
   "source": [
    "# Algoritmos de Ordenação\n",
    "\n",
    "[![Open In Colab](https://colab.research.google.com/assets/colab-badge.svg)](https://colab.research.google.com/github/caio-c-silva/algoritmos/blob/main/notebooks_aulas/Algoritmos%20de%20Ordena%C3%A7%C3%A3o-p3.ipynb)\n"
   ]
  },
  {
   "cell_type": "markdown",
   "id": "935b3c2b-2ef6-4ebb-a225-efc039a1c00f",
   "metadata": {},
   "source": [
    "## Merge Sort"
   ]
  },
  {
   "cell_type": "markdown",
   "id": "2d39bb50-df41-493d-b537-2e11e0b60cc8",
   "metadata": {},
   "source": [
    "Merge Sort é um algoritmo de ordenação eficiente que utiliza a abordagem \"dividir para conquistar\" para classificar uma lista de elementos. Ele funciona dividindo a lista em duas metades, classificando cada metade e, em seguida, mesclando as duas metades classificadas para obter a lista final ordenada. Aqui está uma descrição passo a passo do algoritmo Merge Sort:\n",
    "\n",
    "1. Divisão\n",
    "    - Divida a lista de elementos não ordenados ao meio. Isso cria duas sublistas, geralmente chamadas de \"esquerda\" e \"direita\". A divisão ocorre recursivamente até que cada sublista contenha apenas um elemento.\n",
    "    \n",
    "2. Conquista\n",
    "    - Classifique cada uma das sublistas criadas na etapa anterior. Isso pode ser feito usando recursão, aplicando novamente o Merge Sort a cada sublista até que todas as sublistas tenham apenas um elemento. Uma sublista com apenas um elemento é considerada ordenada por definição (caso base).\n",
    "    \n",
    "3. Mesclagem\n",
    "    - Combine (mescle) as sublistas classificadas para criar sublistas maiores e, finalmente, a lista totalmente ordenada. O processo de mesclagem envolve comparar os elementos das sublistas e fundi-los em uma única sublista classificada. Isso é feito de forma recursiva, começando com as sublistas menores e combinando-as em sublistas maiores até que uma única lista ordenada seja obtida."
   ]
  },
  {
   "cell_type": "markdown",
   "id": "1c7b16f8-3379-4cea-b459-1085129201a1",
   "metadata": {},
   "source": [
    "### Implementação"
   ]
  },
  {
   "cell_type": "code",
   "execution_count": null,
   "id": "24548be0-abee-40df-851c-2d79ba0efaf1",
   "metadata": {},
   "outputs": [],
   "source": [
    "def merge_sort(lista):\n",
    "    if len(lista) <= 1:\n",
    "        return lista\n",
    "    else:    \n",
    "        # Divisão\n",
    "        meio = len(lista) // 2\n",
    "        esquerda = lista[:meio]\n",
    "        direita = lista[meio:]\n",
    "\n",
    "        # Conquista (recursão)\n",
    "        esquerda = merge_sort(esquerda)\n",
    "        direita = merge_sort(direita)\n",
    "\n",
    "        # Mesclagem\n",
    "        return merge(esquerda, direita)"
   ]
  },
  {
   "cell_type": "code",
   "execution_count": null,
   "id": "40779297-372c-4d14-9d51-492ac1272d1a",
   "metadata": {
    "tags": []
   },
   "outputs": [],
   "source": [
    "def merge(esquerda, direita):\n",
    "    resultado = []\n",
    "    i = 0  # índice da sublista esquerda\n",
    "    j = 0  # índice da sublista direita\n",
    "    \n",
    "    \n",
    "    while i < len(esquerda) and j < len(direita):\n",
    "        if esquerda[i] < direita[j]:\n",
    "            resultado.append(esquerda[i])\n",
    "            i += 1\n",
    "        else:\n",
    "            resultado.append(direita[j])\n",
    "            j += 1        \n",
    "        \n",
    "    # Adicionar elementos restantes, se houver\n",
    "    resultado.extend(esquerda[i:])\n",
    "    resultado.extend(direita[j:])\n",
    "        \n",
    "    return resultado   "
   ]
  },
  {
   "cell_type": "code",
   "execution_count": null,
   "id": "94be7c92-64ac-4559-a368-1785602efeaf",
   "metadata": {
    "tags": []
   },
   "outputs": [],
   "source": [
    "merge_sort([5, 0, 17, 4, 3, 21])"
   ]
  },
  {
   "cell_type": "markdown",
   "id": "339cddbb-b482-4903-a0ea-d072a8e72f63",
   "metadata": {},
   "source": [
    "## Comparando Algoritmos"
   ]
  },
  {
   "cell_type": "code",
   "execution_count": null,
   "id": "3a5bfbe2-827a-40d4-add6-b5a006149a81",
   "metadata": {
    "tags": []
   },
   "outputs": [],
   "source": [
    "def selection_sort(lista):\n",
    "    n = len(lista)\n",
    "\n",
    "    for i in range(n):\n",
    "        menor_idx = i\n",
    "\n",
    "        # Achar o índice da parte não ordenada da lista\n",
    "        for j in range(i+1, n):\n",
    "            if lista[j] < lista[menor_idx]:\n",
    "                menor_idx = j\n",
    "\n",
    "        # trocar os valores do menor elemento com o primeiro da lista\n",
    "        lista[i], lista[menor_idx] = lista[menor_idx], lista[i]\n",
    "    return lista"
   ]
  },
  {
   "cell_type": "code",
   "execution_count": null,
   "id": "fd659b32-9c97-487f-a896-71371981d390",
   "metadata": {
    "tags": []
   },
   "outputs": [],
   "source": [
    "tamanho_lista = 100000\n",
    "lista_nao_ordenada = list(range(tamanho_lista))[::-1]"
   ]
  },
  {
   "cell_type": "markdown",
   "id": "a1cebe82-141f-4d48-bf11-b4d863002717",
   "metadata": {},
   "source": [
    "### Selection Sort"
   ]
  },
  {
   "cell_type": "code",
   "execution_count": null,
   "id": "233ef33f-76eb-4547-877c-7115df5edb44",
   "metadata": {
    "tags": []
   },
   "outputs": [],
   "source": [
    "import time\n",
    "\n",
    "inicio = time.time()\n",
    "selection_sort(lista_nao_ordenada)\n",
    "fim = time.time()\n",
    "\n",
    "print(f'O tempo de execução foi {fim - inicio}')\n",
    "print(f'Numero de operações na ordem de {tamanho_lista**2}')"
   ]
  },
  {
   "cell_type": "markdown",
   "id": "2b0b0605-8041-431a-a931-53ec177400d0",
   "metadata": {},
   "source": [
    "### Merge Sort"
   ]
  },
  {
   "cell_type": "code",
   "execution_count": null,
   "id": "47ea2473-85ba-472f-bc8c-716024c751b6",
   "metadata": {
    "tags": []
   },
   "outputs": [],
   "source": [
    "import math\n",
    "inicio = time.time()\n",
    "merge_sort(lista_nao_ordenada)\n",
    "fim = time.time()\n",
    "\n",
    "print(f'O tempo de execução foi {fim - inicio}')\n",
    "print(f'Numero de operações na ordem de {tamanho_lista*math.log2(tamanho_lista)}')"
   ]
  },
  {
   "cell_type": "markdown",
   "id": "8e81293a-4865-4f81-bd48-7303b9b1936a",
   "metadata": {},
   "source": [
    "## Problemas"
   ]
  },
  {
   "cell_type": "markdown",
   "id": "a02803ac-eb8b-43b6-b0ee-710604c74696",
   "metadata": {},
   "source": [
    "1. Modifique o algoritmo Merge Sort para que a ordenação ocorra de forma decrescente."
   ]
  },
  {
   "cell_type": "code",
   "execution_count": null,
   "id": "1d38ef51-d3e1-41bb-a299-d43ceb5aed41",
   "metadata": {},
   "outputs": [],
   "source": []
  },
  {
   "cell_type": "markdown",
   "id": "d2e4c659-8ed2-48a3-9ec9-f60ebd515e36",
   "metadata": {
    "tags": []
   },
   "source": [
    "2. Crie uma função onde a forma de ordenação possa ser escolhida."
   ]
  },
  {
   "cell_type": "code",
   "execution_count": null,
   "id": "fe882584-4d99-4c70-873b-a8a2143add9a",
   "metadata": {},
   "outputs": [],
   "source": []
  }
 ],
 "metadata": {
  "kernelspec": {
   "display_name": "Python 3 (ipykernel)",
   "language": "python",
   "name": "python3"
  },
  "language_info": {
   "codemirror_mode": {
    "name": "ipython",
    "version": 3
   },
   "file_extension": ".py",
   "mimetype": "text/x-python",
   "name": "python",
   "nbconvert_exporter": "python",
   "pygments_lexer": "ipython3",
   "version": "3.11.3"
  }
 },
 "nbformat": 4,
 "nbformat_minor": 5
}
