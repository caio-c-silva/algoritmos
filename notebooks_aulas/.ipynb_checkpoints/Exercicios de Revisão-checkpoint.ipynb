{
 "cells": [
  {
   "cell_type": "markdown",
   "id": "2768e589-7529-49b9-ae2f-16d9dc49b58d",
   "metadata": {},
   "source": [
    "## Problema 1: \n",
    "\n",
    "Dado dois números inteiros, escreva um programa para encontrar a sua soma, diferença, produto e quociente."
   ]
  },
  {
   "cell_type": "code",
   "execution_count": null,
   "id": "30082bfa-6c5d-4e69-91be-feaa650ac15e",
   "metadata": {},
   "outputs": [],
   "source": []
  },
  {
   "cell_type": "markdown",
   "id": "20018eb5-bcaa-4573-a00a-15666bd12391",
   "metadata": {},
   "source": [
    "## Problema 2: \n",
    "\n",
    "Escreva um programa que calcule o perímetro e a área de um retângulo, dado o seu comprimento e largura como entrada.\n",
    "\n",
    "$P = 2 \\times comprimento + 2 \\times largura$\n",
    "\n",
    "$A = comprimento \\times largura$"
   ]
  },
  {
   "cell_type": "code",
   "execution_count": null,
   "id": "b9d11d97-503d-4d8e-89d8-7ec1da7c9b3e",
   "metadata": {},
   "outputs": [],
   "source": []
  },
  {
   "cell_type": "markdown",
   "id": "400a3b87-4f1a-47e4-a4fb-6143dcc897d1",
   "metadata": {},
   "source": [
    "## Problema 3: \n",
    "Escreva um programa que calcule o montante final ($M_n$), dado o montante inicial ($M_n$), a taxa de juros mensal ($r$) e o tempo em meses ($n$). Calcule utilizando juros simples e juros compostos. Imprima também a diferença entre as duas formas de cáculo.\n",
    "\n",
    "Juros Simples:\n",
    "\n",
    "$M_n = m_0 \\times (1+r \\times n) $\n",
    "\n",
    "Juros Compostos:\n",
    "\n",
    "$M_n = m_0 \\times (1+r)^n $"
   ]
  },
  {
   "cell_type": "markdown",
   "id": "54214470-abd9-42ea-b58c-0022e3e584a2",
   "metadata": {},
   "source": []
  },
  {
   "cell_type": "markdown",
   "id": "c0c869fe-bcbb-4cd9-9476-51d5404973b4",
   "metadata": {},
   "source": [
    "## Problema 4:\n",
    "\n",
    "Uma empresa decidiu conceder bônus ao funcionário de acordo com os seguintes critérios:\n",
    "\n",
    "| Periodo de Tempo de Serviço       | Bonus                                     |\n",
    "|-----------------------------------|--------------------------------------------|\n",
    "| Mais de 10 anos | 10%   |\n",
    "| entre 6 e 10 anos (inclusos) | 8%         |\n",
    "| menos de 6 anos  | 5%             |\n",
    "\n",
    "\n",
    "Pergunte ao usuário seu salário e anos de serviço e imprima o valor líquido do bônus."
   ]
  },
  {
   "cell_type": "code",
   "execution_count": null,
   "id": "3ceb6b61-30a1-4a0f-8ec2-6b86253b456b",
   "metadata": {},
   "outputs": [],
   "source": []
  },
  {
   "cell_type": "markdown",
   "id": "598cadfe-4823-42b4-974c-d0d3254a7cb6",
   "metadata": {},
   "source": [
    "## Problema 5:\n",
    "\n",
    "Escreva um programa que receba uma string como entrada e retorne a mesma string com todos os caracteres duplicados removidos."
   ]
  },
  {
   "cell_type": "code",
   "execution_count": null,
   "id": "615aa8c4-19c5-411e-b43c-c9c888ff02f1",
   "metadata": {},
   "outputs": [],
   "source": []
  },
  {
   "cell_type": "markdown",
   "id": "269e65aa-ef9f-4292-9eca-0c4c3bdbb728",
   "metadata": {},
   "source": [
    "## Problema 6:\n",
    "\n",
    "Contagem de caracteres: Crie uma função que recebe uma string e retorna um dicionário com a contagem de cada caractere na string."
   ]
  },
  {
   "cell_type": "code",
   "execution_count": null,
   "id": "6d1fe42c-24ea-45ad-977a-e53afa88514c",
   "metadata": {},
   "outputs": [],
   "source": []
  },
  {
   "cell_type": "markdown",
   "id": "417f07c2-0e0c-4921-80fd-7c3204c9ff25",
   "metadata": {},
   "source": [
    "## Problema 7:\n",
    "\n",
    "Média de uma lista: Crie uma função que recebe uma lista de números e retorna a média dos valores."
   ]
  },
  {
   "cell_type": "code",
   "execution_count": null,
   "id": "3d50b4ee-c335-452c-9334-92afc9670a68",
   "metadata": {},
   "outputs": [],
   "source": []
  }
 ],
 "metadata": {
  "kernelspec": {
   "display_name": "Python 3 (ipykernel)",
   "language": "python",
   "name": "python3"
  },
  "language_info": {
   "codemirror_mode": {
    "name": "ipython",
    "version": 3
   },
   "file_extension": ".py",
   "mimetype": "text/x-python",
   "name": "python",
   "nbconvert_exporter": "python",
   "pygments_lexer": "ipython3",
   "version": "3.11.3"
  }
 },
 "nbformat": 4,
 "nbformat_minor": 5
}
