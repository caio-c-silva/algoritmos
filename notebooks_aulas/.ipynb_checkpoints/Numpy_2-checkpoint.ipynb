{
 "cells": [
  {
   "cell_type": "markdown",
   "id": "d704f4f5-89f6-467e-8465-f2894bf8b4b5",
   "metadata": {},
   "source": [
    "# Numpy\n",
    "\n",
    "[![Open In Colab](https://colab.research.google.com/assets/colab-badge.svg)](https://colab.research.google.com/github/caio-c-silva/algoritmos/blob/main/notebooks_aulas/Numpy.ipynb)"
   ]
  },
  {
   "cell_type": "markdown",
   "id": "f8bcdb13-77c0-401d-bf3d-bd16ac40a5ac",
   "metadata": {},
   "source": [
    "## Bibliotecas\n",
    "\n",
    "Em Python, uma biblioteca, também conhecida como módulo ou pacote, é um conjunto de funções, classes e métodos pré-definidos que fornecem funcionalidades específicas para auxiliar os programadores a realizar tarefas comuns. Essas bibliotecas são criadas para serem reutilizáveis e economizar tempo, permitindo que os desenvolvedores acessem recursos prontos para uso, em vez de terem que escrever código do zero. Os programadores podem importar essas bibliotecas em seus programas para utilizar as funcionalidades oferecidas e, assim, acelerar o desenvolvimento de software.\n"
   ]
  },
  {
   "cell_type": "code",
   "execution_count": null,
   "id": "41ff69a2-5106-4ba1-a7ad-ab1a597c1a98",
   "metadata": {
    "tags": []
   },
   "outputs": [],
   "source": [
    "import numpy as np # importando a biblioteca numpy"
   ]
  },
  {
   "cell_type": "markdown",
   "id": "524c2477-ba70-401f-a092-56851ada3ed0",
   "metadata": {},
   "source": [
    "## Numpy\n",
    "\n",
    "NumPy (Numerical Python) é uma biblioteca fundamental em Python amplamente utilizada para computação numérica e científica. Ela fornece suporte para arrays multidimensionais e funções matemáticas de alto desempenho que permitem realizar operações eficientes em dados numéricos. "
   ]
  },
  {
   "cell_type": "markdown",
   "id": "f932ac60-644e-429b-a2ba-1b5933196840",
   "metadata": {},
   "source": [
    "### Array\n",
    "\n",
    "Um NumPy array é uma estrutura de dados multidimensional que faz parte da biblioteca NumPy em Python. Ele é semelhante a uma lista ou matriz, mas possui a capacidade de conter dados em múltiplas dimensões, o que o torna ideal para representar dados numéricos, como matrizes, tensores e vetores."
   ]
  },
  {
   "cell_type": "markdown",
   "id": "f03347a1-2a4f-43f7-adca-34339c7bd95f",
   "metadata": {},
   "source": [
    "#### Definindo um array de dimensão 1"
   ]
  },
  {
   "cell_type": "code",
   "execution_count": null,
   "id": "0431d916-bc26-46b1-af3b-37a96521aa0c",
   "metadata": {
    "tags": []
   },
   "outputs": [],
   "source": [
    "a = np.array([1,2,3])"
   ]
  },
  {
   "cell_type": "code",
   "execution_count": null,
   "id": "6900b8e0-ed4f-4277-8ee7-e9962994744f",
   "metadata": {
    "tags": []
   },
   "outputs": [],
   "source": [
    "print(a)"
   ]
  },
  {
   "cell_type": "code",
   "execution_count": null,
   "id": "616a908a-d330-4829-abd8-6129afd7d1ec",
   "metadata": {
    "tags": []
   },
   "outputs": [],
   "source": [
    "# Verficando o tipo do objeto a\n",
    "\n",
    "type(a)"
   ]
  },
  {
   "cell_type": "code",
   "execution_count": null,
   "id": "27f21d41-55d0-416d-8046-85bd97ec2095",
   "metadata": {
    "tags": []
   },
   "outputs": [],
   "source": [
    "# Verficando a dimensão de a\n",
    "\n",
    "a.ndim"
   ]
  },
  {
   "cell_type": "code",
   "execution_count": null,
   "id": "49a90cd9-8f41-4e6a-b697-54f43268360c",
   "metadata": {
    "tags": []
   },
   "outputs": [],
   "source": [
    "# Verficando o tamanho de a (número de elementos)\n",
    "\n",
    "a.size"
   ]
  },
  {
   "cell_type": "code",
   "execution_count": null,
   "id": "054665eb-f678-4a2f-bbb3-d3553ed3ce81",
   "metadata": {
    "tags": []
   },
   "outputs": [],
   "source": [
    "# Verficando o formato de a\n",
    "\n",
    "a.shape"
   ]
  },
  {
   "cell_type": "code",
   "execution_count": null,
   "id": "d3c25e57-af5e-4a5b-a855-0e8453ebbe82",
   "metadata": {
    "tags": []
   },
   "outputs": [],
   "source": [
    "# Verificando o tipo dos elementos de a \n",
    "\n",
    "a.dtype"
   ]
  },
  {
   "cell_type": "markdown",
   "id": "905420a3-8c62-440b-80a1-4bd9e97e87a2",
   "metadata": {},
   "source": [
    "#### Definindo um array de dimensão 2"
   ]
  },
  {
   "cell_type": "code",
   "execution_count": null,
   "id": "b5f6696c-04a9-43cc-86b0-661fd927a728",
   "metadata": {
    "tags": []
   },
   "outputs": [],
   "source": [
    "b = np.array([[9.0, 8.0, 7.0], [6.0, 5.0, 4.0]])"
   ]
  },
  {
   "cell_type": "code",
   "execution_count": null,
   "id": "54a77a91-bdee-4c72-be45-66825343a284",
   "metadata": {
    "tags": []
   },
   "outputs": [],
   "source": [
    "print(b)"
   ]
  },
  {
   "cell_type": "code",
   "execution_count": null,
   "id": "6137209c-8879-4f1b-9e7f-a4c0266941a9",
   "metadata": {
    "tags": []
   },
   "outputs": [],
   "source": [
    "# Verficando o tipo do objeto b\n",
    "\n",
    "type(b)"
   ]
  },
  {
   "cell_type": "code",
   "execution_count": null,
   "id": "7de73306-bf18-421f-9bc4-b132e3379ae4",
   "metadata": {
    "tags": []
   },
   "outputs": [],
   "source": [
    "# Verficando a dimensão de b\n",
    "\n",
    "b.ndim"
   ]
  },
  {
   "cell_type": "code",
   "execution_count": null,
   "id": "7970beda-9760-4887-b1bf-7391e56de9c3",
   "metadata": {
    "tags": []
   },
   "outputs": [],
   "source": [
    "# Verficando o tamanho de b (número de elementos)\n",
    "\n",
    "b.size"
   ]
  },
  {
   "cell_type": "code",
   "execution_count": null,
   "id": "a23fac66-5cd6-4e41-89a9-984565b0b35c",
   "metadata": {
    "tags": []
   },
   "outputs": [],
   "source": [
    "# Verficando o formato de b\n",
    "\n",
    "b.shape"
   ]
  },
  {
   "cell_type": "code",
   "execution_count": null,
   "id": "d11669c1-eb54-4625-a0df-40d369e7e4bc",
   "metadata": {
    "tags": []
   },
   "outputs": [],
   "source": [
    "# Verificando o tipo dos elementos de b\n",
    "\n",
    "b.dtype"
   ]
  },
  {
   "cell_type": "markdown",
   "id": "90eceff4-830f-4d32-b718-c28c3ef5f767",
   "metadata": {},
   "source": [
    "#### Acessando e Alterando Elementos Especificos, Linhas ou Colunas"
   ]
  },
  {
   "cell_type": "code",
   "execution_count": null,
   "id": "2b9a9284-9dc9-4bc4-851f-7ec423f68810",
   "metadata": {
    "tags": []
   },
   "outputs": [],
   "source": [
    "a = np.array([[1,2,3], [4, 5, 6], [7, 8, 9]])\n",
    "print(a)"
   ]
  },
  {
   "cell_type": "code",
   "execution_count": null,
   "id": "066aa316-f670-490d-bb35-42c8879de5aa",
   "metadata": {
    "tags": []
   },
   "outputs": [],
   "source": [
    "# Acessar um elemento específico [linha, coluna]\n",
    "\n",
    "a[2, 1] #elemnto que se encontra na linha 2 e na 1 (lembre-se de que os índices começam a ser contados em zero)"
   ]
  },
  {
   "cell_type": "code",
   "execution_count": null,
   "id": "f679227a-78cc-42b2-b0c2-3adfbce9fefe",
   "metadata": {
    "tags": []
   },
   "outputs": [],
   "source": [
    "# Acessar uma linha específica \n",
    "\n",
    "a[0, :] # seleciona a linha com índice zero e os elementos de todas as colunas"
   ]
  },
  {
   "cell_type": "code",
   "execution_count": null,
   "id": "4edb46fd-a047-429a-8b90-277becbb5f40",
   "metadata": {
    "tags": []
   },
   "outputs": [],
   "source": [
    "# Acessar uma coluna específica\n",
    "\n",
    "a[:, 2] # seleciona a coluna com índice 2 e os elementos de todas as linhas"
   ]
  },
  {
   "cell_type": "code",
   "execution_count": null,
   "id": "2b53213b-d474-4727-982a-f206e7d40a92",
   "metadata": {
    "tags": []
   },
   "outputs": [],
   "source": [
    "# alterar um elemento específico\n",
    "\n",
    "a[2, 1] = 10\n",
    "\n",
    "print(a)"
   ]
  },
  {
   "cell_type": "code",
   "execution_count": null,
   "id": "bc08bb72-90a6-4a24-906f-97b109f0aa54",
   "metadata": {
    "tags": []
   },
   "outputs": [],
   "source": [
    "# alterar uma coluna inteira\n",
    "\n",
    "a[:,2] = [11, 12, 13]\n",
    "\n",
    "print(a)"
   ]
  },
  {
   "cell_type": "markdown",
   "id": "b3a82738-06ec-443e-a1be-eecbcf4ff8a7",
   "metadata": {},
   "source": [
    "### Problemas"
   ]
  },
  {
   "cell_type": "markdown",
   "id": "c9d6ef3c-9c4a-4058-8d0f-399cc0be63bf",
   "metadata": {},
   "source": [
    "1. Crie um array de dimensão 3 contendo números inteiros"
   ]
  },
  {
   "cell_type": "code",
   "execution_count": null,
   "id": "b73232ff-aa77-4ffe-9ded-d0113d751ea5",
   "metadata": {},
   "outputs": [],
   "source": []
  },
  {
   "cell_type": "markdown",
   "id": "3962ba94-c56b-4e47-8a1b-56b281ccbf94",
   "metadata": {
    "tags": []
   },
   "source": [
    "2. Verifique a dimensão, o tamanho, o formato e o tipo dos elementos do array criado"
   ]
  },
  {
   "cell_type": "code",
   "execution_count": null,
   "id": "26dcc6ea-5266-403b-b317-4f3512b24fe7",
   "metadata": {},
   "outputs": [],
   "source": []
  },
  {
   "cell_type": "markdown",
   "id": "9130ee9b-2b7c-465c-808e-9e3f9ffb7b79",
   "metadata": {},
   "source": [
    "3. Substitua elementos específicos por outros números inteiros"
   ]
  },
  {
   "cell_type": "code",
   "execution_count": null,
   "id": "214d85b4-d65a-41a4-8dfc-4f869400a73e",
   "metadata": {},
   "outputs": [],
   "source": []
  }
 ],
 "metadata": {
  "kernelspec": {
   "display_name": "Python 3 (ipykernel)",
   "language": "python",
   "name": "python3"
  },
  "language_info": {
   "codemirror_mode": {
    "name": "ipython",
    "version": 3
   },
   "file_extension": ".py",
   "mimetype": "text/x-python",
   "name": "python",
   "nbconvert_exporter": "python",
   "pygments_lexer": "ipython3",
   "version": "3.11.3"
  }
 },
 "nbformat": 4,
 "nbformat_minor": 5
}
