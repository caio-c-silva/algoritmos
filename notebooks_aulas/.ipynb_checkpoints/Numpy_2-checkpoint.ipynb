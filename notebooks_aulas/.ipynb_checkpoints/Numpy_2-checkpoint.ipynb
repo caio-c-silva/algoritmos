{
 "cells": [
  {
   "cell_type": "markdown",
   "id": "d704f4f5-89f6-467e-8465-f2894bf8b4b5",
   "metadata": {},
   "source": [
    "# Numpy\n",
    "\n",
    "[![Open In Colab](https://colab.research.google.com/assets/colab-badge.svg)](https://colab.research.google.com/github/caio-c-silva/algoritmos/blob/main/notebooks_aulas/Numpy_2.ipynb)"
   ]
  },
  {
   "cell_type": "code",
   "execution_count": null,
   "id": "2e36d2b3-97cb-477d-9231-ec4fda4a19f3",
   "metadata": {
    "tags": []
   },
   "outputs": [],
   "source": [
    "import numpy as np"
   ]
  },
  {
   "cell_type": "markdown",
   "id": "f03347a1-2a4f-43f7-adca-34339c7bd95f",
   "metadata": {},
   "source": [
    "## Criando tipos específicos de arrays"
   ]
  },
  {
   "cell_type": "markdown",
   "id": "8f09ed1b-e201-4d26-9b52-c4654d260cf8",
   "metadata": {},
   "source": [
    "### Apenas Zeros"
   ]
  },
  {
   "cell_type": "code",
   "execution_count": null,
   "id": "0431d916-bc26-46b1-af3b-37a96521aa0c",
   "metadata": {
    "tags": []
   },
   "outputs": [],
   "source": [
    "np.zeros((2,3))"
   ]
  },
  {
   "cell_type": "markdown",
   "id": "bc28f7ad-aa0a-46f7-a4d2-c04bc4a32171",
   "metadata": {},
   "source": [
    "### Apenas 1s"
   ]
  },
  {
   "cell_type": "code",
   "execution_count": null,
   "id": "6900b8e0-ed4f-4277-8ee7-e9962994744f",
   "metadata": {
    "tags": []
   },
   "outputs": [],
   "source": [
    "np.ones((4,3,2))"
   ]
  },
  {
   "cell_type": "markdown",
   "id": "d2fe2895-81c5-4c61-92ea-8c18bf80c88a",
   "metadata": {},
   "source": [
    "### Qualquer Número"
   ]
  },
  {
   "cell_type": "code",
   "execution_count": null,
   "id": "616a908a-d330-4829-abd8-6129afd7d1ec",
   "metadata": {
    "tags": []
   },
   "outputs": [],
   "source": [
    "np.full((2,2), 99)"
   ]
  },
  {
   "cell_type": "markdown",
   "id": "be88b15c-5349-4765-a567-5742c5fd9aa6",
   "metadata": {},
   "source": [
    "### Números Aleatórios"
   ]
  },
  {
   "cell_type": "code",
   "execution_count": null,
   "id": "27f21d41-55d0-416d-8046-85bd97ec2095",
   "metadata": {
    "tags": []
   },
   "outputs": [],
   "source": [
    "np.random.rand(4,2)"
   ]
  },
  {
   "cell_type": "markdown",
   "id": "95e54232-b52f-45ee-9d9b-b9fe7bda5eab",
   "metadata": {},
   "source": [
    "### Números Inteiros Aleatórios"
   ]
  },
  {
   "cell_type": "code",
   "execution_count": null,
   "id": "49a90cd9-8f41-4e6a-b697-54f43268360c",
   "metadata": {
    "tags": []
   },
   "outputs": [],
   "source": [
    "np.random.randint(-4,8, size=(3,3))"
   ]
  },
  {
   "cell_type": "markdown",
   "id": "025999d0-d776-4f8e-aa79-feb1eb4158dd",
   "metadata": {},
   "source": [
    "### Matriz Identidade"
   ]
  },
  {
   "cell_type": "code",
   "execution_count": null,
   "id": "054665eb-f678-4a2f-bbb3-d3553ed3ce81",
   "metadata": {
    "tags": []
   },
   "outputs": [],
   "source": [
    "np.identity(5)"
   ]
  },
  {
   "cell_type": "markdown",
   "id": "4d7e3045-35a1-4798-bc52-ce913e8e6836",
   "metadata": {
    "tags": []
   },
   "source": [
    "## Operações Matemáticas"
   ]
  },
  {
   "cell_type": "code",
   "execution_count": null,
   "id": "b5f6696c-04a9-43cc-86b0-661fd927a728",
   "metadata": {
    "tags": []
   },
   "outputs": [],
   "source": [
    "a = np.array([1,2,3,4])\n",
    "print(a)"
   ]
  },
  {
   "cell_type": "code",
   "execution_count": null,
   "id": "54a77a91-bdee-4c72-be45-66825343a284",
   "metadata": {
    "tags": []
   },
   "outputs": [],
   "source": [
    "a + 2"
   ]
  },
  {
   "cell_type": "code",
   "execution_count": null,
   "id": "6137209c-8879-4f1b-9e7f-a4c0266941a9",
   "metadata": {
    "tags": []
   },
   "outputs": [],
   "source": [
    "a - 2"
   ]
  },
  {
   "cell_type": "code",
   "execution_count": null,
   "id": "7de73306-bf18-421f-9bc4-b132e3379ae4",
   "metadata": {
    "tags": []
   },
   "outputs": [],
   "source": [
    "a * 2"
   ]
  },
  {
   "cell_type": "code",
   "execution_count": null,
   "id": "7970beda-9760-4887-b1bf-7391e56de9c3",
   "metadata": {
    "tags": []
   },
   "outputs": [],
   "source": [
    "a / 2"
   ]
  },
  {
   "cell_type": "code",
   "execution_count": null,
   "id": "9cb94ff3-67e6-46b5-bcd1-0c160e402358",
   "metadata": {
    "tags": []
   },
   "outputs": [],
   "source": [
    "a ** 2"
   ]
  },
  {
   "cell_type": "code",
   "execution_count": null,
   "id": "a23fac66-5cd6-4e41-89a9-984565b0b35c",
   "metadata": {
    "tags": []
   },
   "outputs": [],
   "source": [
    "b = np.array([1,0,1,0])\n",
    "print(b)"
   ]
  },
  {
   "cell_type": "code",
   "execution_count": null,
   "id": "d11669c1-eb54-4625-a0df-40d369e7e4bc",
   "metadata": {
    "tags": []
   },
   "outputs": [],
   "source": [
    "a + b"
   ]
  },
  {
   "cell_type": "code",
   "execution_count": null,
   "id": "ce1995e9-cff2-413f-928c-8f7016929fd1",
   "metadata": {
    "tags": []
   },
   "outputs": [],
   "source": [
    "np.cos(a)"
   ]
  },
  {
   "cell_type": "code",
   "execution_count": null,
   "id": "ad162274-3510-4fd0-b6e8-98bf271b15f9",
   "metadata": {
    "tags": []
   },
   "outputs": [],
   "source": [
    "np.sin(a)"
   ]
  },
  {
   "cell_type": "markdown",
   "id": "90eceff4-830f-4d32-b718-c28c3ef5f767",
   "metadata": {},
   "source": [
    "### Algebra Linear"
   ]
  },
  {
   "cell_type": "code",
   "execution_count": null,
   "id": "2b9a9284-9dc9-4bc4-851f-7ec423f68810",
   "metadata": {
    "tags": []
   },
   "outputs": [],
   "source": [
    "a = np.ones((2,3))\n",
    "print(a)\n",
    "\n",
    "b = np.full((3,2), 2)\n",
    "print(b)"
   ]
  },
  {
   "cell_type": "code",
   "execution_count": null,
   "id": "066aa316-f670-490d-bb35-42c8879de5aa",
   "metadata": {
    "tags": []
   },
   "outputs": [],
   "source": [
    "np.matmul(a,b)"
   ]
  },
  {
   "cell_type": "code",
   "execution_count": null,
   "id": "f679227a-78cc-42b2-b0c2-3adfbce9fefe",
   "metadata": {
    "tags": []
   },
   "outputs": [],
   "source": [
    "c = np.matmul(a,b)"
   ]
  },
  {
   "cell_type": "code",
   "execution_count": null,
   "id": "1ff15329-523f-47f0-aae6-ec7fa512a950",
   "metadata": {
    "tags": []
   },
   "outputs": [],
   "source": [
    "np.linalg.det(c)"
   ]
  },
  {
   "cell_type": "code",
   "execution_count": null,
   "id": "4edb46fd-a047-429a-8b90-277becbb5f40",
   "metadata": {
    "tags": []
   },
   "outputs": [],
   "source": [
    "d = np.random.randint(-4,8, size=(2,2))\n",
    "\n",
    "print(d)"
   ]
  },
  {
   "cell_type": "code",
   "execution_count": null,
   "id": "2b53213b-d474-4727-982a-f206e7d40a92",
   "metadata": {
    "tags": []
   },
   "outputs": [],
   "source": [
    "np.linalg.det(d)"
   ]
  },
  {
   "cell_type": "markdown",
   "id": "fbb4e9da-7ec2-4a52-8408-a678055ea909",
   "metadata": {},
   "source": [
    "### Estatística"
   ]
  },
  {
   "cell_type": "code",
   "execution_count": null,
   "id": "a1beaedc-2aea-40ba-9502-c06128979464",
   "metadata": {
    "tags": []
   },
   "outputs": [],
   "source": [
    "medidas = np.array([[1,0,5],[2,-2,6]])\n",
    "print(medidas)"
   ]
  },
  {
   "cell_type": "code",
   "execution_count": null,
   "id": "793a0b5b-cf6e-4a44-870c-404689fd8499",
   "metadata": {
    "tags": []
   },
   "outputs": [],
   "source": [
    "np.min(medidas)"
   ]
  },
  {
   "cell_type": "code",
   "execution_count": null,
   "id": "877944c0-9683-4c74-87ca-ee6bfbfd4bf7",
   "metadata": {
    "tags": []
   },
   "outputs": [],
   "source": [
    "np.min(medidas[:, 2])"
   ]
  },
  {
   "cell_type": "code",
   "execution_count": null,
   "id": "802be463-1ff4-409b-83af-5183a7f8f0de",
   "metadata": {
    "tags": []
   },
   "outputs": [],
   "source": [
    "np.min(medidas[1 , :])"
   ]
  },
  {
   "cell_type": "code",
   "execution_count": null,
   "id": "5754cff9-2620-4bc3-98c3-b753c2d0b94a",
   "metadata": {
    "tags": []
   },
   "outputs": [],
   "source": [
    "np.max(medidas[1 , :])"
   ]
  },
  {
   "cell_type": "code",
   "execution_count": null,
   "id": "001ffb93-8f3d-4ed7-9f6e-d4541a0faf9c",
   "metadata": {
    "tags": []
   },
   "outputs": [],
   "source": [
    "np.max(medidas, axis=1) # eixo 1 --> linhas"
   ]
  },
  {
   "cell_type": "code",
   "execution_count": null,
   "id": "cde03977-ca53-4fdc-84fb-4c864298062a",
   "metadata": {
    "tags": []
   },
   "outputs": [],
   "source": [
    "np.max(medidas, axis=0) # eixo 1 --> Colunas"
   ]
  },
  {
   "cell_type": "code",
   "execution_count": null,
   "id": "31fe4376-2649-4ff8-a73a-6298e318d510",
   "metadata": {
    "tags": []
   },
   "outputs": [],
   "source": [
    "np.sum(medidas, axis=0)"
   ]
  },
  {
   "cell_type": "code",
   "execution_count": null,
   "id": "e94d822d-7f4f-4b64-ac2f-6273a394ac2b",
   "metadata": {
    "tags": []
   },
   "outputs": [],
   "source": [
    "np.mean(medidas, axis=1)"
   ]
  },
  {
   "cell_type": "markdown",
   "id": "b3a82738-06ec-443e-a1be-eecbcf4ff8a7",
   "metadata": {},
   "source": [
    "### Problemas"
   ]
  },
  {
   "cell_type": "markdown",
   "id": "c9d6ef3c-9c4a-4058-8d0f-399cc0be63bf",
   "metadata": {},
   "source": [
    "Considere as seguintes matrizes:\n",
    "\n",
    "$ A =  \\begin{bmatrix}\n",
    "2 & -1 \\\\\n",
    "0 & 5 \n",
    "\\end{bmatrix}  $\n",
    "\n",
    "$ B =  \\begin{bmatrix}\n",
    "0 & 2  \\\\\n",
    "1 & 7 \n",
    "\\end{bmatrix}  $\n",
    "\n",
    "1. Represente A e B na forma de arrays"
   ]
  },
  {
   "cell_type": "code",
   "execution_count": null,
   "id": "12ace0a4-78b5-4a45-9818-86a6df3a6e72",
   "metadata": {},
   "outputs": [],
   "source": []
  },
  {
   "cell_type": "markdown",
   "id": "3962ba94-c56b-4e47-8a1b-56b281ccbf94",
   "metadata": {
    "tags": []
   },
   "source": [
    "2. Crie a Matriz C, onde C é a multiplicação matricial de A por B"
   ]
  },
  {
   "cell_type": "code",
   "execution_count": null,
   "id": "712ab727-8cc6-48ba-8156-96bfd80bfc64",
   "metadata": {},
   "outputs": [],
   "source": []
  },
  {
   "cell_type": "markdown",
   "id": "9130ee9b-2b7c-465c-808e-9e3f9ffb7b79",
   "metadata": {},
   "source": [
    "3. Calcule o determinante de C"
   ]
  },
  {
   "cell_type": "code",
   "execution_count": null,
   "id": "c5fa6a60-afa7-47b5-9d2a-04d6d9c18113",
   "metadata": {},
   "outputs": [],
   "source": []
  },
  {
   "cell_type": "markdown",
   "id": "860c6651-2eaa-4b2a-8789-bd63b6a07ec8",
   "metadata": {},
   "source": [
    "4. Calcule a média dos valores presentes nas colunas de C depois de serem elevados ao quadrado "
   ]
  },
  {
   "cell_type": "code",
   "execution_count": null,
   "id": "7f7a4e26-94f2-43f9-af40-c39b4f19bbd0",
   "metadata": {},
   "outputs": [],
   "source": []
  }
 ],
 "metadata": {
  "kernelspec": {
   "display_name": "Python 3 (ipykernel)",
   "language": "python",
   "name": "python3"
  },
  "language_info": {
   "codemirror_mode": {
    "name": "ipython",
    "version": 3
   },
   "file_extension": ".py",
   "mimetype": "text/x-python",
   "name": "python",
   "nbconvert_exporter": "python",
   "pygments_lexer": "ipython3",
   "version": "3.11.3"
  }
 },
 "nbformat": 4,
 "nbformat_minor": 5
}
