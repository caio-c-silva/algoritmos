{
 "cells": [
  {
   "cell_type": "markdown",
   "id": "d704f4f5-89f6-467e-8465-f2894bf8b4b5",
   "metadata": {},
   "source": [
    "# Pandas\n",
    "\n",
    "[![Open In Colab](https://colab.research.google.com/assets/colab-badge.svg)](https://colab.research.google.com/github/caio-c-silva/algoritmos/blob/main/notebooks_aulas/Pandas.ipynb)"
   ]
  },
  {
   "cell_type": "code",
   "execution_count": null,
   "id": "41ff69a2-5106-4ba1-a7ad-ab1a597c1a98",
   "metadata": {
    "tags": []
   },
   "outputs": [],
   "source": [
    "import pandas as pd "
   ]
  },
  {
   "cell_type": "markdown",
   "id": "524c2477-ba70-401f-a092-56851ada3ed0",
   "metadata": {},
   "source": [
    "## Pandas\n",
    "\n",
    "Pandas é uma poderosa biblioteca de código aberto para manipulação e análise de dados em Python. Ele fornece estruturas de dados flexíveis e eficientes, projetadas para tornar a manipulação e análise de conjuntos de dados estruturados ou tabelares mais fácil e intuitiva. "
   ]
  },
  {
   "cell_type": "markdown",
   "id": "f932ac60-644e-429b-a2ba-1b5933196840",
   "metadata": {},
   "source": [
    "### Dataframe\n",
    "\n",
    "O Pandas introduz a estrutura de dados chamada DataFrame, que é essencialmente uma tabela bidimensional com rótulos em linhas e colunas. Isso facilita a representação e manipulação de dados tabulares, semelhante a uma planilha ou tabela SQL."
   ]
  },
  {
   "cell_type": "markdown",
   "id": "f03347a1-2a4f-43f7-adca-34339c7bd95f",
   "metadata": {},
   "source": [
    "#### Criando DataFrame"
   ]
  },
  {
   "cell_type": "code",
   "execution_count": null,
   "id": "0431d916-bc26-46b1-af3b-37a96521aa0c",
   "metadata": {
    "tags": []
   },
   "outputs": [],
   "source": [
    "alunos = ['João', 'Paulo', 'Maria', 'Julia']\n",
    "idades = [21, 19, 18, 20]\n",
    "cidades = ['Campinas', 'Hortolândia', 'Sumaré', 'Hortolândia']\n",
    "notas = [9.2, 7.6, 8.7, 9.4]\n",
    "\n",
    "df = pd.DataFrame(list(zip(alunos, idades, cidades, notas)), columns =['Nome', 'Idade', 'Cidade' ,'Nota'])"
   ]
  },
  {
   "cell_type": "code",
   "execution_count": null,
   "id": "6900b8e0-ed4f-4277-8ee7-e9962994744f",
   "metadata": {
    "tags": []
   },
   "outputs": [],
   "source": [
    "df"
   ]
  },
  {
   "cell_type": "markdown",
   "id": "45bb09fa-41cc-4b6a-8a3e-5a79e32affad",
   "metadata": {},
   "source": [
    "#### Criar DataFrame a partir de um arquivo CSV"
   ]
  },
  {
   "cell_type": "code",
   "execution_count": null,
   "id": "483e7514-063c-4c25-90c8-171bcf6202b0",
   "metadata": {
    "tags": []
   },
   "outputs": [],
   "source": [
    "url = 'https://raw.githubusercontent.com/adaoduque/Brasileirao_Dataset/master/campeonato-brasileiro-full.csv'\n",
    "\n",
    "df = pd.read_csv(url)"
   ]
  },
  {
   "cell_type": "code",
   "execution_count": null,
   "id": "1da54ce7-978f-4474-bdb5-df473510bd7e",
   "metadata": {
    "tags": []
   },
   "outputs": [],
   "source": [
    "# Verificando os nomes das colunas\n",
    "\n",
    "df.columns"
   ]
  },
  {
   "cell_type": "code",
   "execution_count": null,
   "id": "99692473-098a-4ea8-9cc2-189fff73d0d4",
   "metadata": {
    "tags": []
   },
   "outputs": [],
   "source": [
    "df.head()"
   ]
  },
  {
   "cell_type": "code",
   "execution_count": null,
   "id": "3394b994-9c69-4366-b446-4b8ad9de5a38",
   "metadata": {
    "tags": []
   },
   "outputs": [],
   "source": [
    "df.tail()"
   ]
  },
  {
   "cell_type": "markdown",
   "id": "64debb55-3432-446b-8569-a90cf010b9e1",
   "metadata": {},
   "source": [
    "#### Análise Exploratória dos Dados"
   ]
  },
  {
   "cell_type": "code",
   "execution_count": null,
   "id": "94568ed3-5a33-425d-8a9e-f5f69bf8336e",
   "metadata": {
    "tags": []
   },
   "outputs": [],
   "source": [
    "df[df.duplicated()]"
   ]
  },
  {
   "cell_type": "code",
   "execution_count": null,
   "id": "0fa81862-6746-4d12-b652-b10dbff5c2fa",
   "metadata": {
    "tags": []
   },
   "outputs": [],
   "source": [
    "df.isnull().sum()"
   ]
  },
  {
   "cell_type": "code",
   "execution_count": null,
   "id": "31327f73-1b5d-4ebe-96a3-33f008edbbb4",
   "metadata": {
    "tags": []
   },
   "outputs": [],
   "source": [
    "df.dtypes"
   ]
  },
  {
   "cell_type": "markdown",
   "id": "ead9029f-9c9c-4552-8552-05fe465ffe80",
   "metadata": {},
   "source": [
    "#### Alterando Colunas"
   ]
  },
  {
   "cell_type": "code",
   "execution_count": null,
   "id": "c673cff8-57bd-45ee-97b0-6b592ac307e5",
   "metadata": {
    "tags": []
   },
   "outputs": [],
   "source": [
    "# Convertendo a coluna de datas para o tipo datetime\n",
    "\n",
    "df['data'] = pd.to_datetime(df['data'], format='%d/%m/%Y')"
   ]
  },
  {
   "cell_type": "code",
   "execution_count": null,
   "id": "28f59196-826a-47f7-b40f-883274a7e496",
   "metadata": {
    "tags": []
   },
   "outputs": [],
   "source": [
    "df.head()"
   ]
  },
  {
   "cell_type": "code",
   "execution_count": null,
   "id": "39082e59-ee09-4f65-8c16-fd75a744c599",
   "metadata": {
    "tags": []
   },
   "outputs": [],
   "source": [
    "# Padronizando coluna vencedor\n",
    "\n",
    "df['vencedor'].replace('-', 'Empate', inplace=True)"
   ]
  },
  {
   "cell_type": "markdown",
   "id": "d973bfcb-7fbe-4671-a85f-1d64e46aca3e",
   "metadata": {},
   "source": [
    "#### Filtrar Dados"
   ]
  },
  {
   "cell_type": "code",
   "execution_count": null,
   "id": "6bc93c69-f236-428e-94bf-69a1b9bac4b2",
   "metadata": {
    "tags": []
   },
   "outputs": [],
   "source": [
    "df[df['data'] >= '2018']"
   ]
  },
  {
   "cell_type": "code",
   "execution_count": null,
   "id": "9fee4573-4033-4147-9335-35a50a095d31",
   "metadata": {
    "tags": []
   },
   "outputs": [],
   "source": [
    "df[df['mandante'] == 'Cuiaba']"
   ]
  },
  {
   "cell_type": "code",
   "execution_count": null,
   "id": "1b6fb298-e228-457d-a5e6-d933c09b438a",
   "metadata": {
    "tags": []
   },
   "outputs": [],
   "source": [
    "# Operação booleana OR (|)\n",
    "\n",
    "df[(df['mandante'] == 'Cuiaba') | (df['visitante'] == 'Cuiaba')]"
   ]
  },
  {
   "cell_type": "code",
   "execution_count": null,
   "id": "38e5c5ef-af56-4b4a-99b8-e376f4864499",
   "metadata": {
    "tags": []
   },
   "outputs": [],
   "source": [
    "df['mandante'].unique()"
   ]
  },
  {
   "cell_type": "code",
   "execution_count": null,
   "id": "d77341e8-be66-4b9c-9eb7-e19d0c4deb96",
   "metadata": {
    "tags": []
   },
   "outputs": [],
   "source": [
    "# Operação booleana AND (&)\n",
    "\n",
    "df[(df['mandante'] == 'Internacional') & (df['visitante'] == 'Gremio')]"
   ]
  },
  {
   "cell_type": "code",
   "execution_count": null,
   "id": "f9fa91ba-76b0-47b8-abeb-2a0f665027cd",
   "metadata": {
    "tags": []
   },
   "outputs": [],
   "source": [
    "df[((df['mandante'] == 'Cruzeiro') & (df['visitante'] == 'Atletico-MG'))\n",
    "  | ((df['mandante'] == 'Atletico-MG') & (df['visitante'] == 'Cruzeiro'))]"
   ]
  },
  {
   "cell_type": "code",
   "execution_count": null,
   "id": "398c12b1-5e99-4aec-ad44-87dd0160b71f",
   "metadata": {
    "tags": []
   },
   "outputs": [],
   "source": [
    "df_classico_mineiro = df[((df['mandante'] == 'Cruzeiro') & (df['visitante'] == 'Atletico-MG'))\n",
    "                      | ((df['mandante'] == 'Atletico-MG') & (df['visitante'] == 'Cruzeiro'))]"
   ]
  },
  {
   "cell_type": "markdown",
   "id": "c6e88006-1fce-4870-9e33-58abc4db7ec8",
   "metadata": {},
   "source": [
    "#### Salvar DataFrame"
   ]
  },
  {
   "cell_type": "code",
   "execution_count": null,
   "id": "51809d03-8f19-4e2c-9a42-19cf9fc69f3c",
   "metadata": {
    "tags": []
   },
   "outputs": [],
   "source": [
    "df_classico_mineiro.to_csv('classicomineiro.csv', index=False)"
   ]
  },
  {
   "cell_type": "code",
   "execution_count": null,
   "id": "f3a018ce-80b0-4181-8ac3-03c55ebfd830",
   "metadata": {
    "tags": []
   },
   "outputs": [],
   "source": [
    "df_classico_mineiro.to_excel('classicomineiro.xlsx', index=False)"
   ]
  },
  {
   "cell_type": "markdown",
   "id": "6b79bee9-aa34-463d-9b9d-e9043ee2a6d4",
   "metadata": {},
   "source": [
    "## Problemas"
   ]
  },
  {
   "cell_type": "markdown",
   "id": "3ab48328-b403-4e17-94ea-82bde40608ca",
   "metadata": {},
   "source": [
    "1. Selecione todos os jogos do seu time nos últimos 10 anos. Salve os dados."
   ]
  },
  {
   "cell_type": "code",
   "execution_count": null,
   "id": "46fa6946-a974-4e61-a60c-69b271fa09c8",
   "metadata": {},
   "outputs": [],
   "source": []
  },
  {
   "cell_type": "markdown",
   "id": "453b19c8-ccbe-431b-8414-247d68fb283a",
   "metadata": {},
   "source": [
    "2. Selecione todos os jogos de um time rival nos últimos 10 anos. Salve os dados."
   ]
  },
  {
   "cell_type": "code",
   "execution_count": null,
   "id": "b83bb725-b7fd-41da-a1b7-74ba36096561",
   "metadata": {},
   "outputs": [],
   "source": []
  },
  {
   "cell_type": "markdown",
   "id": "f215cacc-f0d2-4e3b-9f14-e57a2e564e39",
   "metadata": {},
   "source": [
    "3. Selecione todos os confrontos do seu time com o time rival nos últimos 10 anos. Salve os Dados."
   ]
  },
  {
   "cell_type": "code",
   "execution_count": null,
   "id": "f1106c66-c068-4fea-9bfd-78f1b15b333a",
   "metadata": {},
   "outputs": [],
   "source": []
  }
 ],
 "metadata": {
  "kernelspec": {
   "display_name": "Python 3 (ipykernel)",
   "language": "python",
   "name": "python3"
  },
  "language_info": {
   "codemirror_mode": {
    "name": "ipython",
    "version": 3
   },
   "file_extension": ".py",
   "mimetype": "text/x-python",
   "name": "python",
   "nbconvert_exporter": "python",
   "pygments_lexer": "ipython3",
   "version": "3.11.3"
  }
 },
 "nbformat": 4,
 "nbformat_minor": 5
}
