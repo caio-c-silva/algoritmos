{
 "cells": [
  {
   "cell_type": "markdown",
   "id": "d704f4f5-89f6-467e-8465-f2894bf8b4b5",
   "metadata": {},
   "source": [
    "# Pandas\n",
    "\n",
    "[![Open In Colab](https://colab.research.google.com/assets/colab-badge.svg)](https://colab.research.google.com/github/caio-c-silva/algoritmos/blob/main/notebooks_aulas/Pandas_2.ipynb)"
   ]
  },
  {
   "cell_type": "code",
   "execution_count": null,
   "id": "41ff69a2-5106-4ba1-a7ad-ab1a597c1a98",
   "metadata": {
    "tags": []
   },
   "outputs": [],
   "source": [
    "import pandas as pd "
   ]
  },
  {
   "cell_type": "markdown",
   "id": "45bb09fa-41cc-4b6a-8a3e-5a79e32affad",
   "metadata": {},
   "source": [
    "#### Criar DataFrame a partir de um arquivo CSV"
   ]
  },
  {
   "cell_type": "code",
   "execution_count": null,
   "id": "483e7514-063c-4c25-90c8-171bcf6202b0",
   "metadata": {
    "tags": []
   },
   "outputs": [],
   "source": [
    "url = 'https://raw.githubusercontent.com/LearnDataSci/articles/master/Python%20Pandas%20Tutorial%20A%20Complete%20Introduction%20for%20Beginners/IMDB-Movie-Data.csv'\n",
    "\n",
    "df = pd.read_csv(url)"
   ]
  },
  {
   "cell_type": "code",
   "execution_count": null,
   "id": "407b4d91-343f-4051-9af3-0f08b31112ea",
   "metadata": {
    "tags": []
   },
   "outputs": [],
   "source": [
    "df.head(2)"
   ]
  },
  {
   "cell_type": "code",
   "execution_count": null,
   "id": "4796fe97-4aab-4808-bb83-cac2d8f301d4",
   "metadata": {
    "tags": []
   },
   "outputs": [],
   "source": [
    "df.dtypes"
   ]
  },
  {
   "cell_type": "markdown",
   "id": "3ccea6e0-7509-4af3-9b07-b9a8453e11c4",
   "metadata": {},
   "source": [
    "### Encontrando Valores Mínimos e Máximos"
   ]
  },
  {
   "cell_type": "code",
   "execution_count": null,
   "id": "af15e087-9ed5-4f55-a78a-b3f711cad4a6",
   "metadata": {
    "tags": []
   },
   "outputs": [],
   "source": [
    "df['Year'].min()"
   ]
  },
  {
   "cell_type": "code",
   "execution_count": null,
   "id": "86fbf3c8-587b-4360-8a6b-47e909fbe0c4",
   "metadata": {
    "tags": []
   },
   "outputs": [],
   "source": [
    "df['Year'].max()"
   ]
  },
  {
   "cell_type": "code",
   "execution_count": null,
   "id": "8fb01f5f-860e-4dd6-be43-e50977739106",
   "metadata": {
    "tags": []
   },
   "outputs": [],
   "source": [
    "idx = df['Rating'].idxmax()\n",
    "df[['Title', 'Director', 'Year', 'Rating']].loc[idx]"
   ]
  },
  {
   "cell_type": "code",
   "execution_count": null,
   "id": "7b5e31ce-492b-4542-acc8-0c74cc368063",
   "metadata": {
    "tags": []
   },
   "outputs": [],
   "source": [
    "idx = df['Rating'].idxmin()\n",
    "df[['Title', 'Director', 'Year', 'Rating']].loc[idx]"
   ]
  },
  {
   "cell_type": "markdown",
   "id": "e6e7e235-7460-4e20-9c4d-50e2f9b21dfe",
   "metadata": {},
   "source": [
    "### Ordenação por Colunas"
   ]
  },
  {
   "cell_type": "code",
   "execution_count": null,
   "id": "85a9a08b-20a7-4d86-af4b-ff1197ac3ccb",
   "metadata": {
    "tags": []
   },
   "outputs": [],
   "source": [
    "df_tarantino = df[df['Director']=='Quentin Tarantino']\n",
    "df_tarantino"
   ]
  },
  {
   "cell_type": "code",
   "execution_count": null,
   "id": "62affd92-c916-4ec8-a16e-9c23a94aa8d3",
   "metadata": {
    "tags": []
   },
   "outputs": [],
   "source": [
    "df_tarantino.sort_values(by='Rating', ascending=True)"
   ]
  },
  {
   "cell_type": "markdown",
   "id": "04207877-34b5-47f3-b952-828d75a37527",
   "metadata": {},
   "source": [
    "### Estatísticas"
   ]
  },
  {
   "cell_type": "code",
   "execution_count": null,
   "id": "782bdb0b-5951-4955-9e2f-6e8bb0c46119",
   "metadata": {},
   "outputs": [],
   "source": [
    "df_tarantino.describe()"
   ]
  },
  {
   "cell_type": "code",
   "execution_count": null,
   "id": "d51cc8da-d756-4545-9aeb-55a468e18689",
   "metadata": {
    "tags": []
   },
   "outputs": [],
   "source": [
    "df_tarantino['Runtime (Minutes)'].count()"
   ]
  },
  {
   "cell_type": "code",
   "execution_count": null,
   "id": "1c240804-1d48-4ca5-ae4c-1584ce6a98f6",
   "metadata": {
    "tags": []
   },
   "outputs": [],
   "source": [
    "df_tarantino['Runtime (Minutes)'].mean()"
   ]
  },
  {
   "cell_type": "code",
   "execution_count": null,
   "id": "9477b606-0c6b-4851-a5a3-09cf6216baa9",
   "metadata": {
    "tags": []
   },
   "outputs": [],
   "source": [
    "df_tarantino['Revenue (Millions)'].sum()"
   ]
  },
  {
   "cell_type": "code",
   "execution_count": null,
   "id": "2a990984-8e45-474f-a602-22dd85aa9581",
   "metadata": {
    "tags": []
   },
   "outputs": [],
   "source": [
    "df_tarantino['Revenue (Millions)'].sum() / df_tarantino['Runtime (Minutes)'].sum()"
   ]
  },
  {
   "cell_type": "markdown",
   "id": "ca9af2ae-040f-47ef-a74e-a3780bb1a527",
   "metadata": {},
   "source": [
    "### Filtrar por sub-string"
   ]
  },
  {
   "cell_type": "code",
   "execution_count": null,
   "id": "6a60c83b-160e-4ead-ae9e-32c543f4edda",
   "metadata": {
    "tags": []
   },
   "outputs": [],
   "source": [
    "df_tarantino[df_tarantino['Actors'].str.contains(\"Brad Pitt\")]"
   ]
  },
  {
   "cell_type": "code",
   "execution_count": null,
   "id": "22741783-b6c6-46a2-85aa-1a0ad82d807a",
   "metadata": {
    "tags": []
   },
   "outputs": [],
   "source": [
    "df_tarantino[df_tarantino['Actors'].str.contains(\"Brad Pitt|Samuel L. Jackson\")]"
   ]
  },
  {
   "cell_type": "markdown",
   "id": "6b79bee9-aa34-463d-9b9d-e9043ee2a6d4",
   "metadata": {},
   "source": [
    "## Problemas"
   ]
  },
  {
   "cell_type": "markdown",
   "id": "3ab48328-b403-4e17-94ea-82bde40608ca",
   "metadata": {},
   "source": [
    "1. Qual a média de tempo dos filmes estrelados pela atriz Meryl Streep?"
   ]
  },
  {
   "cell_type": "code",
   "execution_count": null,
   "id": "46fa6946-a974-4e61-a60c-69b271fa09c8",
   "metadata": {},
   "outputs": [],
   "source": []
  },
  {
   "cell_type": "markdown",
   "id": "453b19c8-ccbe-431b-8414-247d68fb283a",
   "metadata": {},
   "source": [
    "2. Quantos filmes de mistério (Mystery) foram lançados no ano de 2010?"
   ]
  },
  {
   "cell_type": "code",
   "execution_count": null,
   "id": "b83bb725-b7fd-41da-a1b7-74ba36096561",
   "metadata": {},
   "outputs": [],
   "source": []
  },
  {
   "cell_type": "markdown",
   "id": "f215cacc-f0d2-4e3b-9f14-e57a2e564e39",
   "metadata": {},
   "source": [
    "3. Qual o total arrecadado em filmes dirigidos por Martin Scorsese e estrelados pelo ator Leonardo DiCaprio? "
   ]
  },
  {
   "cell_type": "code",
   "execution_count": null,
   "id": "f1106c66-c068-4fea-9bfd-78f1b15b333a",
   "metadata": {},
   "outputs": [],
   "source": []
  },
  {
   "cell_type": "markdown",
   "id": "5c31aea8-0591-4004-8fe8-f29d4f144652",
   "metadata": {},
   "source": [
    "4. Qual o total arrecadado em filmes dirigidos por Martin Scorsese e que não foram estrelados pelo ator Leonardo DiCaprio?"
   ]
  },
  {
   "cell_type": "code",
   "execution_count": null,
   "id": "b2e9b74f-fd39-4df6-8974-dcee3ec36b72",
   "metadata": {},
   "outputs": [],
   "source": []
  },
  {
   "cell_type": "markdown",
   "id": "d8d0f617-00f1-49d3-a1d7-fadd439ee5e8",
   "metadata": {},
   "source": [
    "5. Entre os filmes lançados em 2014, qual possui a maior arrecadação?"
   ]
  },
  {
   "cell_type": "code",
   "execution_count": null,
   "id": "6bf3e27d-9d21-4373-8f4c-aa735b5258bc",
   "metadata": {},
   "outputs": [],
   "source": []
  },
  {
   "cell_type": "markdown",
   "id": "39233c0f-cdc8-499f-8612-7eed0dcd4d5c",
   "metadata": {},
   "source": [
    "6. Qual o filme de guerra (War) com o a menor arrecadação?"
   ]
  },
  {
   "cell_type": "code",
   "execution_count": null,
   "id": "a559900e-a93a-4687-ac7f-fd841833b472",
   "metadata": {},
   "outputs": [],
   "source": []
  },
  {
   "cell_type": "markdown",
   "id": "923c780e-a5d8-4824-8f5e-213bf750b757",
   "metadata": {
    "tags": []
   },
   "source": [
    "7. Qual a maior arrecadação entre os filmes de terror (Horror) lançados entre 2010 e 2015?"
   ]
  },
  {
   "cell_type": "code",
   "execution_count": null,
   "id": "8409df60-7c38-4e5f-acc4-8aebdd9328b5",
   "metadata": {},
   "outputs": [],
   "source": []
  }
 ],
 "metadata": {
  "kernelspec": {
   "display_name": "Python 3 (ipykernel)",
   "language": "python",
   "name": "python3"
  },
  "language_info": {
   "codemirror_mode": {
    "name": "ipython",
    "version": 3
   },
   "file_extension": ".py",
   "mimetype": "text/x-python",
   "name": "python",
   "nbconvert_exporter": "python",
   "pygments_lexer": "ipython3",
   "version": "3.11.3"
  }
 },
 "nbformat": 4,
 "nbformat_minor": 5
}
