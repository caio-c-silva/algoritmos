{
 "cells": [
  {
   "cell_type": "markdown",
   "id": "d704f4f5-89f6-467e-8465-f2894bf8b4b5",
   "metadata": {},
   "source": [
    "# Pandas\n",
    "\n",
    "[![Open In Colab](https://colab.research.google.com/assets/colab-badge.svg)](https://colab.research.google.com/github/caio-c-silva/algoritmos/blob/main/notebooks_aulas/Pandas_3.ipynb)"
   ]
  },
  {
   "cell_type": "code",
   "execution_count": null,
   "id": "41ff69a2-5106-4ba1-a7ad-ab1a597c1a98",
   "metadata": {
    "tags": []
   },
   "outputs": [],
   "source": [
    "import pandas as pd "
   ]
  },
  {
   "cell_type": "markdown",
   "id": "45bb09fa-41cc-4b6a-8a3e-5a79e32affad",
   "metadata": {},
   "source": [
    "#### Criar DataFrame a partir de um arquivo CSV"
   ]
  },
  {
   "cell_type": "code",
   "execution_count": null,
   "id": "483e7514-063c-4c25-90c8-171bcf6202b0",
   "metadata": {
    "tags": []
   },
   "outputs": [],
   "source": [
    "url = 'https://raw.githubusercontent.com/LearnDataSci/articles/master/Python%20Pandas%20Tutorial%20A%20Complete%20Introduction%20for%20Beginners/IMDB-Movie-Data.csv'\n",
    "\n",
    "df = pd.read_csv(url)"
   ]
  },
  {
   "cell_type": "markdown",
   "id": "3ccea6e0-7509-4af3-9b07-b9a8453e11c4",
   "metadata": {},
   "source": [
    "### Agrupamento"
   ]
  },
  {
   "cell_type": "code",
   "execution_count": null,
   "id": "110372a6-293b-439a-b968-edf61203d003",
   "metadata": {
    "tags": []
   },
   "outputs": [],
   "source": [
    "df.groupby('Director')[['Revenue (Millions)']].mean()"
   ]
  },
  {
   "cell_type": "code",
   "execution_count": null,
   "id": "1b8a4848-c859-4f49-b949-2a5009544ead",
   "metadata": {
    "tags": []
   },
   "outputs": [],
   "source": [
    "df.groupby('Director')[['Revenue (Millions)']].sum()"
   ]
  },
  {
   "cell_type": "code",
   "execution_count": null,
   "id": "10e604fe-eb06-4f7d-9436-8dba45519249",
   "metadata": {
    "tags": []
   },
   "outputs": [],
   "source": [
    "df.groupby(['Director', 'Year'])[['Revenue (Millions)']].sum()"
   ]
  },
  {
   "cell_type": "code",
   "execution_count": null,
   "id": "3072fc10-0efa-4b64-8e64-5508c363721e",
   "metadata": {
    "tags": []
   },
   "outputs": [],
   "source": [
    "df.groupby('Director')[['Revenue (Millions)']].agg(['sum', 'mean', 'min', 'max'])"
   ]
  },
  {
   "cell_type": "code",
   "execution_count": null,
   "id": "8b708fb0-44d0-4ac3-8939-547c7096ab46",
   "metadata": {
    "tags": []
   },
   "outputs": [],
   "source": [
    "df_revenue_per_director = df.groupby('Director')[['Revenue (Millions)']].agg(['sum', 'mean', 'min', 'max'])"
   ]
  },
  {
   "cell_type": "code",
   "execution_count": null,
   "id": "9fc95b2f-446f-42ce-958f-b1c22d8dbbe0",
   "metadata": {
    "tags": []
   },
   "outputs": [],
   "source": [
    "df_revenue_per_director.index"
   ]
  },
  {
   "cell_type": "code",
   "execution_count": null,
   "id": "a27ade1e-bcd8-4603-b10e-d202a6970934",
   "metadata": {
    "tags": []
   },
   "outputs": [],
   "source": [
    "df_revenue_per_director.loc[['Zack Snyder']]"
   ]
  },
  {
   "cell_type": "code",
   "execution_count": null,
   "id": "5d227019-ce63-4678-869a-2eedd34ee939",
   "metadata": {
    "tags": []
   },
   "outputs": [],
   "source": [
    "df_revenue_per_director.columns"
   ]
  },
  {
   "cell_type": "code",
   "execution_count": null,
   "id": "4a69ec78-c05f-4b4a-8afa-4f51b044e55a",
   "metadata": {
    "tags": []
   },
   "outputs": [],
   "source": [
    "df_revenue_per_director.sort_values(by=('Revenue (Millions)',  'sum'), ascending=False)[:10]"
   ]
  },
  {
   "cell_type": "code",
   "execution_count": null,
   "id": "0006ada7-6fd7-4b09-a19a-899b8fd6a616",
   "metadata": {
    "tags": []
   },
   "outputs": [],
   "source": [
    "top_10 = df_revenue_per_director.sort_values(by=('Revenue (Millions)',  'sum'), ascending=False)[:10]"
   ]
  },
  {
   "cell_type": "markdown",
   "id": "4eb65fca-41a2-47ca-9bd8-dee588b11819",
   "metadata": {},
   "source": [
    "### Gráficos"
   ]
  },
  {
   "cell_type": "markdown",
   "id": "aab18289-55eb-40dc-a330-d3e6d827b7f1",
   "metadata": {},
   "source": [
    "#### Gráfico de Barras"
   ]
  },
  {
   "cell_type": "code",
   "execution_count": null,
   "id": "bd14a866-b521-40c9-b22d-b8239329119a",
   "metadata": {
    "tags": []
   },
   "outputs": [],
   "source": [
    "top_10[[('Revenue (Millions)',  'sum')]].plot(kind='bar', legend=False)"
   ]
  },
  {
   "cell_type": "code",
   "execution_count": null,
   "id": "2cbd704c-aa7e-48e3-b82e-4fd28817350c",
   "metadata": {
    "tags": []
   },
   "outputs": [],
   "source": [
    "top_10[[('Revenue (Millions)',  'sum')]].plot.bar(legend=False)"
   ]
  },
  {
   "cell_type": "markdown",
   "id": "cf5b7198-fadd-431a-8d5c-100cb2bdd9a6",
   "metadata": {},
   "source": [
    "#### Gráfico de Barras Horizontais"
   ]
  },
  {
   "cell_type": "code",
   "execution_count": null,
   "id": "ca779e67-726f-47da-a149-4b6a4b72f20c",
   "metadata": {
    "tags": []
   },
   "outputs": [],
   "source": [
    "top_10[[('Revenue (Millions)',  'sum')]].plot(kind='barh', legend=False)"
   ]
  },
  {
   "cell_type": "code",
   "execution_count": null,
   "id": "af15e087-9ed5-4f55-a78a-b3f711cad4a6",
   "metadata": {
    "tags": []
   },
   "outputs": [],
   "source": [
    "top_10[[('Revenue (Millions)',  'sum')]].plot.barh(legend=False)"
   ]
  },
  {
   "cell_type": "markdown",
   "id": "095ece75-2817-47f1-99b3-e6f880456d76",
   "metadata": {},
   "source": [
    "#### Gráfico de Pizza"
   ]
  },
  {
   "cell_type": "code",
   "execution_count": null,
   "id": "86fbf3c8-587b-4360-8a6b-47e909fbe0c4",
   "metadata": {
    "tags": []
   },
   "outputs": [],
   "source": [
    "top_10[[('Revenue (Millions)',  'sum')]].plot(kind='pie',\n",
    "                                                    subplots=True,\n",
    "                                                  autopct=\"%.2f\",\n",
    "                                                  fontsize=10,\n",
    "                                                  ylabel='',\n",
    "                                                 legend=False)\n"
   ]
  },
  {
   "cell_type": "code",
   "execution_count": null,
   "id": "cd71d3df-6299-49c5-9d75-2cf3522627f5",
   "metadata": {
    "tags": []
   },
   "outputs": [],
   "source": [
    "top_10[[('Revenue (Millions)',  'sum')]].plot.pie(subplots=True,\n",
    "                                                  autopct=\"%.2f\",\n",
    "                                                  fontsize=10,\n",
    "                                                  ylabel='',\n",
    "                                                 legend=False)"
   ]
  },
  {
   "cell_type": "markdown",
   "id": "6b79bee9-aa34-463d-9b9d-e9043ee2a6d4",
   "metadata": {},
   "source": [
    "## Problemas"
   ]
  },
  {
   "cell_type": "markdown",
   "id": "3ab48328-b403-4e17-94ea-82bde40608ca",
   "metadata": {},
   "source": [
    "1. Crie uma tabela com os diretores que tem a maior média de tempo de exibição."
   ]
  },
  {
   "cell_type": "code",
   "execution_count": null,
   "id": "46fa6946-a974-4e61-a60c-69b271fa09c8",
   "metadata": {},
   "outputs": [],
   "source": []
  },
  {
   "cell_type": "markdown",
   "id": "453b19c8-ccbe-431b-8414-247d68fb283a",
   "metadata": {},
   "source": [
    "2. Faça um gráfico de pizza contendo a média do tempo de exibição para cada diretor selecionado na tabela acima."
   ]
  },
  {
   "cell_type": "code",
   "execution_count": null,
   "id": "b83bb725-b7fd-41da-a1b7-74ba36096561",
   "metadata": {},
   "outputs": [],
   "source": []
  }
 ],
 "metadata": {
  "kernelspec": {
   "display_name": "Python 3 (ipykernel)",
   "language": "python",
   "name": "python3"
  },
  "language_info": {
   "codemirror_mode": {
    "name": "ipython",
    "version": 3
   },
   "file_extension": ".py",
   "mimetype": "text/x-python",
   "name": "python",
   "nbconvert_exporter": "python",
   "pygments_lexer": "ipython3",
   "version": "3.11.3"
  }
 },
 "nbformat": 4,
 "nbformat_minor": 5
}
