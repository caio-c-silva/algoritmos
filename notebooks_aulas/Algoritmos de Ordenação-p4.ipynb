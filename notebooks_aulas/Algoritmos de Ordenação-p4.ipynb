{
 "cells": [
  {
   "cell_type": "markdown",
   "id": "d58f9816-ec89-40a1-9115-4e8eca4350f9",
   "metadata": {
    "tags": []
   },
   "source": [
    "# Algoritmos de Ordenação\n",
    "\n",
    "[![Open In Colab](https://colab.research.google.com/assets/colab-badge.svg)](https://colab.research.google.com/github/caio-c-silva/algoritmos/blob/main/notebooks_aulas/Algoritmos%20de%20Ordena%C3%A7%C3%A3o-p4.ipynb)\n"
   ]
  },
  {
   "cell_type": "markdown",
   "id": "935b3c2b-2ef6-4ebb-a225-efc039a1c00f",
   "metadata": {},
   "source": [
    "## Quick Sort"
   ]
  },
  {
   "cell_type": "markdown",
   "id": "2d39bb50-df41-493d-b537-2e11e0b60cc8",
   "metadata": {},
   "source": [
    "O algoritmo Quick Sort é um algoritmo de ordenação eficiente e amplamente utilizado. Ele segue o paradigma \"Dividir para Conquistar\", onde divide um problema em subproblemas menores e os resolve, combinando as soluções para obter a solução final. Aqui está uma descrição passo a passo do algoritmo Quick Sort:\n",
    "\n",
    "1. Escolher um elemento como pivô\n",
    "    - O primeiro passo no Quick Sort é escolher um elemento da lista que será o pivô. O pivô é usado para dividir a lista em duas partições: uma com elementos menores que o pivô e outra com elementos maiores que o pivô.\n",
    "    \n",
    "2. Particionar a lista\n",
    "    - Após escolher o pivô, o próximo passo é reorganizar a lista de forma que todos os elementos menores que o pivô estejam à esquerda dele e todos os elementos maiores estejam à direita. \n",
    "    \n",
    "3. Recursivamente classificar as partições\n",
    "    - Agora que a lista foi dividida em duas partições, o Quick Sort é aplicado recursivamente a essas partições. "
   ]
  },
  {
   "cell_type": "markdown",
   "id": "1c7b16f8-3379-4cea-b459-1085129201a1",
   "metadata": {},
   "source": [
    "### Implementação"
   ]
  },
  {
   "cell_type": "code",
   "execution_count": null,
   "id": "a64694a1-f321-4c7e-9f6d-2262da7bc8fe",
   "metadata": {
    "tags": []
   },
   "outputs": [],
   "source": [
    "def quicksort(lista):\n",
    "    if len(lista) <= 1:\n",
    "        return lista\n",
    "    else:\n",
    "        pivo = lista[0]\n",
    "        menores = [i for i in lista[1:] if i <= pivo]\n",
    "        maiores = [i for i in lista[1:] if i > pivo]\n",
    "        return quicksort(menores) + [pivo] + quicksort(maiores)"
   ]
  },
  {
   "cell_type": "code",
   "execution_count": null,
   "id": "7b3760bb-afec-473f-8eab-399fa1de8a9c",
   "metadata": {
    "tags": []
   },
   "outputs": [],
   "source": [
    "quick_sort([5, 0, 17, 4, 3, 21, 1, 88])"
   ]
  },
  {
   "cell_type": "markdown",
   "id": "8e81293a-4865-4f81-bd48-7303b9b1936a",
   "metadata": {},
   "source": [
    "## Problemas"
   ]
  },
  {
   "cell_type": "markdown",
   "id": "a02803ac-eb8b-43b6-b0ee-710604c74696",
   "metadata": {},
   "source": [
    "1. Modifique o algoritmo Quick Sort para que a ordenação ocorra de forma decrescente."
   ]
  },
  {
   "cell_type": "code",
   "execution_count": null,
   "id": "1d38ef51-d3e1-41bb-a299-d43ceb5aed41",
   "metadata": {},
   "outputs": [],
   "source": []
  },
  {
   "cell_type": "markdown",
   "id": "d2e4c659-8ed2-48a3-9ec9-f60ebd515e36",
   "metadata": {
    "tags": []
   },
   "source": [
    "2. Crie uma função onde a forma de ordenação possa ser escolhida."
   ]
  },
  {
   "cell_type": "code",
   "execution_count": null,
   "id": "fe882584-4d99-4c70-873b-a8a2143add9a",
   "metadata": {},
   "outputs": [],
   "source": []
  }
 ],
 "metadata": {
  "kernelspec": {
   "display_name": "Python 3 (ipykernel)",
   "language": "python",
   "name": "python3"
  },
  "language_info": {
   "codemirror_mode": {
    "name": "ipython",
    "version": 3
   },
   "file_extension": ".py",
   "mimetype": "text/x-python",
   "name": "python",
   "nbconvert_exporter": "python",
   "pygments_lexer": "ipython3",
   "version": "3.11.3"
  }
 },
 "nbformat": 4,
 "nbformat_minor": 5
}
