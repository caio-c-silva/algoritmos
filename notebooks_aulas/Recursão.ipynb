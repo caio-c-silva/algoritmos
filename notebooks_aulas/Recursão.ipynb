{
 "cells": [
  {
   "cell_type": "markdown",
   "id": "2db89758-c554-4644-86ae-7929a6023cf3",
   "metadata": {
    "tags": []
   },
   "source": [
    "# Função Recursiva\n",
    "\n",
    "[![Open In Colab](https://colab.research.google.com/assets/colab-badge.svg)](https://colab.research.google.com/github/caio-c-silva/algoritmos/blob/main/notebooks_aulas/Recurs%C3%A3o.ipynb)\n"
   ]
  },
  {
   "cell_type": "markdown",
   "id": "ad28aedf-365a-4812-a9ab-f2279eb80e71",
   "metadata": {},
   "source": [
    "## Matryoshka\n",
    "\n",
    "<img src=\"./fig/matryoshka.jpg\" alt=\"fishy\" class=\"bg-primary mb-1\" width=\"400px\">"
   ]
  },
  {
   "cell_type": "markdown",
   "id": "c7314271-2a1a-4824-a044-5809e66a894d",
   "metadata": {},
   "source": [
    "## Estrutura da Função Recursiva\n",
    "\n",
    "``` Python\n",
    "def func_recursiva(n):\n",
    "    .\n",
    "    .\n",
    "    .\n",
    "    return func_recursiva(n-1)\n",
    "```"
   ]
  },
  {
   "cell_type": "markdown",
   "id": "0736c9e3-0cd8-4fb2-8168-ccf18cdeaf11",
   "metadata": {},
   "source": [
    "## Soma dos elementos até o índice n - Função Iterativa"
   ]
  },
  {
   "cell_type": "code",
   "execution_count": null,
   "id": "53698427-3fac-4c7d-af42-b42ad5f435ac",
   "metadata": {
    "tags": []
   },
   "outputs": [],
   "source": [
    "def soma_ate_indice_n_iterativa(lista, n):\n",
    "    soma = 0\n",
    "    \n",
    "    for i in range(n+1):\n",
    "        soma += lista[i]\n",
    "        \n",
    "    return soma"
   ]
  },
  {
   "cell_type": "code",
   "execution_count": null,
   "id": "b80517d3-f6e4-47cb-8603-5d0e65bafb11",
   "metadata": {
    "tags": []
   },
   "outputs": [],
   "source": [
    "lista = [2, 5, 1, 3, 0, 10]\n",
    "\n",
    "soma_ate_indice_n_iterativa(lista, 3)"
   ]
  },
  {
   "cell_type": "markdown",
   "id": "93e00952-5bfa-40f5-b540-f844ba1e6b57",
   "metadata": {},
   "source": [
    "## Soma dos elementos até o índice n - Função Recursiva"
   ]
  },
  {
   "cell_type": "code",
   "execution_count": null,
   "id": "6d998232-5280-4bd3-9b86-d829cd31b4b6",
   "metadata": {
    "tags": []
   },
   "outputs": [],
   "source": [
    "def soma_ate_indice_n_recursiva(lista, n):\n",
    "    \n",
    "    if n == 0:\n",
    "        return lista[0]\n",
    "    else:\n",
    "        return lista[n] + soma_ate_indice_n_recursiva(lista, n-1)    "
   ]
  },
  {
   "cell_type": "code",
   "execution_count": null,
   "id": "4a758512-0dca-4e07-b66b-5c27a32fd650",
   "metadata": {
    "tags": []
   },
   "outputs": [],
   "source": [
    "lista = [2, 5, 1, 3, 0, 10]\n",
    "\n",
    "soma_ate_indice_n_recursiva(lista, 3)"
   ]
  },
  {
   "cell_type": "markdown",
   "id": "cbcbdcb8-0f8f-428f-a74f-d8cd5cef7b5b",
   "metadata": {},
   "source": [
    "## Problemas"
   ]
  },
  {
   "cell_type": "markdown",
   "id": "87a237a7-014b-4116-8016-af5eb50ff934",
   "metadata": {},
   "source": [
    "1. Crie uma função para calcular o fatorial de um número utilizando o método iterativo."
   ]
  },
  {
   "cell_type": "code",
   "execution_count": null,
   "id": "2decd18c-e0b5-4332-82a9-faf0f9db7539",
   "metadata": {},
   "outputs": [],
   "source": []
  },
  {
   "cell_type": "markdown",
   "id": "623dce3e-452a-4472-8484-ca51fd1867a8",
   "metadata": {},
   "source": [
    "2. Crie uma função para calcular o fatorial de um número utilizando o método recursivo."
   ]
  },
  {
   "cell_type": "code",
   "execution_count": null,
   "id": "0fcf3a3e-a72b-4f70-b966-96a92b0d6e24",
   "metadata": {},
   "outputs": [],
   "source": []
  },
  {
   "cell_type": "markdown",
   "id": "6cca5b65-d49a-446a-b7ff-26036c8bfc07",
   "metadata": {},
   "source": [
    "3. Crie uma função recursiva para resolver a sequência de Fibonacci. A função deve receber um número correspondente à posição do elemento dentro da sequência e retornar o valor do elemento."
   ]
  },
  {
   "cell_type": "code",
   "execution_count": null,
   "id": "1137ef4e-9248-4b21-9830-8e933eaf4a3a",
   "metadata": {},
   "outputs": [],
   "source": []
  }
 ],
 "metadata": {
  "kernelspec": {
   "display_name": "Python 3 (ipykernel)",
   "language": "python",
   "name": "python3"
  },
  "language_info": {
   "codemirror_mode": {
    "name": "ipython",
    "version": 3
   },
   "file_extension": ".py",
   "mimetype": "text/x-python",
   "name": "python",
   "nbconvert_exporter": "python",
   "pygments_lexer": "ipython3",
   "version": "3.11.3"
  }
 },
 "nbformat": 4,
 "nbformat_minor": 5
}
